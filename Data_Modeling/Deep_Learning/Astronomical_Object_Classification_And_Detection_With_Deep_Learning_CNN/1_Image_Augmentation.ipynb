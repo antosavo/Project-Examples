{
 "cells": [
  {
   "cell_type": "code",
   "execution_count": 1,
   "metadata": {
    "collapsed": true
   },
   "outputs": [],
   "source": [
    "import numpy as np\n",
    "import matplotlib.pyplot as plt\n",
    "import cv2"
   ]
  },
  {
   "cell_type": "markdown",
   "metadata": {},
   "source": [
    "## Define a function for image augmentation"
   ]
  },
  {
   "cell_type": "code",
   "execution_count": 2,
   "metadata": {
    "collapsed": true
   },
   "outputs": [],
   "source": [
    "def Image_Augmentation(x):\n",
    "    # Affine Transformation\n",
    "    '''\n",
    "    ip = np.random.uniform(5,15)#inclination point\n",
    "    pts1 = np.float32([[20,5],[5,20],[25,20]])#(y,x)\n",
    "    pts2 = np.float32([[20,ip],[5,20],[25,20]])\n",
    "    M = cv2.getAffineTransform(pts1,pts2)\n",
    "    x = cv2.warpAffine(x,M,(x.shape[1],x.shape[0]))\n",
    "    '''\n",
    "    # Rotation\n",
    "    ri = np.random.randint(0,4)\n",
    "    angle=[0,90,180,270]\n",
    "    scale=[1.0,1.1,1.1,1.1]\n",
    "    M = cv2.getRotationMatrix2D((x.shape[1]/2,x.shape[0]/2),angle[ri],scale[ri])\n",
    "    x = cv2.warpAffine(x,M,(x.shape[1],x.shape[0]))\n",
    "    # Perspective Transformation\n",
    "    pr = -np.random.randint(0,2)\n",
    "    pts1 = np.float32([[5,5],[25,5],[5,25],[25,25]])\n",
    "    pts2 = np.float32([[5+pr,5+pr],[25-pr,5+pr],[5+pr,25-pr],[25-pr,25-pr]])\n",
    "    M = cv2.getPerspectiveTransform(pts1,pts2)\n",
    "    x = cv2.warpPerspective(x,M,(x.shape[1],x.shape[0]))\n",
    "    # Flipping 0\n",
    "    r0 = np.random.randint(0,2)\n",
    "    if r0==1:\n",
    "        x = x[:,::-1]\n",
    "    # Flipping 1\n",
    "    r1 = np.random.randint(0,2)\n",
    "    if r1==1:\n",
    "        x = x[::-1,:]\n",
    "    # Add noise\n",
    "    x = x + np.random.randint(0,2,(x.shape[0],x.shape[1]))\n",
    "    x = np.where(x>255,255,x)\n",
    "    #x = np.where(x<0,0,x)\n",
    "    #x = cv2.resize(x, (30, 30))\n",
    "    return x"
   ]
  },
  {
   "cell_type": "markdown",
   "metadata": {},
   "source": [
    "## Test the function"
   ]
  },
  {
   "cell_type": "code",
   "execution_count": 3,
   "metadata": {
    "collapsed": true
   },
   "outputs": [],
   "source": [
    "img = cv2.imread('star.jpg',0)"
   ]
  },
  {
   "cell_type": "code",
   "execution_count": 4,
   "metadata": {},
   "outputs": [
    {
     "data": {
      "image/png": "[encoded data removed]",
      "text/plain": [
       "<matplotlib.figure.Figure at 0x1155e5210>"
      ]
     },
     "metadata": {},
     "output_type": "display_data"
    }
   ],
   "source": [
    "plt.imshow(img)\n",
    "plt.show()"
   ]
  },
  {
   "cell_type": "code",
   "execution_count": 5,
   "metadata": {},
   "outputs": [
    {
     "data": {
      "image/png": "[encoded data removed]",
      "text/plain": [
       "<matplotlib.figure.Figure at 0x1157799d0>"
      ]
     },
     "metadata": {},
     "output_type": "display_data"
    }
   ],
   "source": [
    "plt.imshow(Image_Augmentation(img))\n",
    "plt.show()"
   ]
  },
  {
   "cell_type": "markdown",
   "metadata": {},
   "source": [
    "## Augment sample images of stars and empty space"
   ]
  },
  {
   "cell_type": "code",
   "execution_count": 6,
   "metadata": {
    "collapsed": true
   },
   "outputs": [],
   "source": [
    "k=1\n",
    "for i in range(1,23):\n",
    "    img = cv2.imread('sample_stars/object_%d.jpg'%i,0)\n",
    "    for j in range(1,47):\n",
    "        aug_img = Image_Augmentation(img)\n",
    "        cv2.imwrite('augmented_images_of_stars/object_%d.jpg'%k, aug_img, params=None)\n",
    "        k+=1"
   ]
  },
  {
   "cell_type": "code",
   "execution_count": 7,
   "metadata": {
    "collapsed": true
   },
   "outputs": [],
   "source": [
    "k=1\n",
    "for i in range(1,23):\n",
    "    img = cv2.imread('sample_empty_space/object_%d.jpg'%i,0)\n",
    "    for j in range(1,47):\n",
    "        aug_img = Image_Augmentation(img)\n",
    "        cv2.imwrite('augmented_images_of_empty_space/object_%d.jpg'%k, aug_img, params=None)\n",
    "        k+=1"
   ]
  }
 ],
 "metadata": {
  "kernelspec": {
   "display_name": "Python 2",
   "language": "python",
   "name": "python2"
  },
  "language_info": {
   "codemirror_mode": {
    "name": "ipython",
    "version": 2
   },
   "file_extension": ".py",
   "mimetype": "text/x-python",
   "name": "python",
   "nbconvert_exporter": "python",
   "pygments_lexer": "ipython2",
   "version": "2.7.10"
  }
 },
 "nbformat": 4,
 "nbformat_minor": 2
}
