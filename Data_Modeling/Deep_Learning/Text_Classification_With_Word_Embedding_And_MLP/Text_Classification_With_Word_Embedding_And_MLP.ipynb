{
 "cells": [
  {
   "cell_type": "code",
   "execution_count": 1,
   "metadata": {},
   "outputs": [
    {
     "name": "stderr",
     "output_type": "stream",
     "text": [
      "Using TensorFlow backend.\n"
     ]
    }
   ],
   "source": [
    "import numpy as np\n",
    "import pandas as pd\n",
    "import matplotlib.pyplot as plt\n",
    "from nltk.corpus import stopwords\n",
    "from nltk.stem import SnowballStemmer\n",
    "import string\n",
    "import re\n",
    "import keras\n",
    "from keras.preprocessing.text import Tokenizer\n",
    "from keras.preprocessing.sequence import pad_sequences\n",
    "from sklearn.model_selection import train_test_split\n",
    "from keras.models import Sequential\n",
    "from keras.layers import Dense, Dropout, Flatten, Conv1D, MaxPooling1D\n",
    "from keras.layers.embeddings import Embedding\n",
    "from keras.models import load_model\n",
    "import h5py"
   ]
  },
  {
   "cell_type": "markdown",
   "metadata": {},
   "source": [
    "## Load the dataset"
   ]
  },
  {
   "cell_type": "code",
   "execution_count": 2,
   "metadata": {},
   "outputs": [
    {
     "data": {
      "text/plain": [
       "'\\nwith open(\\'reviews_Video_Games_5.json\\', \\'rb\\') as f:\\n    data = f.readlines()\\n    \\ndata = map(lambda x: x.rstrip(), data)\\n\\ndata_json_str = \"[\" + \\',\\'.join(data) + \"]\"\\n\\ndf_t = pd.read_json(data_json_str)\\n\\ndf_t.loc[:,[\\'overall\\',\\'reviewText\\']].rename(index=str, columns={\"overall\": \"rating\", \"reviewText\": \"text\"}).to_json(\\'Amazon_Reviews.json\\')\\n'"
      ]
     },
     "execution_count": 2,
     "metadata": {},
     "output_type": "execute_result"
    }
   ],
   "source": [
    "'''\n",
    "with open('reviews_Video_Games_5.json', 'rb') as f:\n",
    "    data = f.readlines()\n",
    "    \n",
    "data = map(lambda x: x.rstrip(), data)\n",
    "\n",
    "data_json_str = \"[\" + ','.join(data) + \"]\"\n",
    "\n",
    "df_t = pd.read_json(data_json_str)\n",
    "\n",
    "df_t.loc[:,['overall','reviewText']].rename(index=str, columns={\"overall\": \"rating\", \"reviewText\": \"text\"}).to_json('Amazon_Reviews.json')\n",
    "'''"
   ]
  },
  {
   "cell_type": "code",
   "execution_count": 3,
   "metadata": {
    "collapsed": true
   },
   "outputs": [],
   "source": [
    "df = pd.read_json('Amazon_Reviews.json')"
   ]
  },
  {
   "cell_type": "markdown",
   "metadata": {},
   "source": [
    "## Explore the data set"
   ]
  },
  {
   "cell_type": "code",
   "execution_count": 4,
   "metadata": {},
   "outputs": [
    {
     "data": {
      "text/html": [
       "<div>\n",
       "<table border=\"1\" class=\"dataframe\">\n",
       "  <thead>\n",
       "    <tr style=\"text-align: right;\">\n",
       "      <th></th>\n",
       "      <th>rating</th>\n",
       "      <th>text</th>\n",
       "    </tr>\n",
       "  </thead>\n",
       "  <tbody>\n",
       "    <tr>\n",
       "      <th>0</th>\n",
       "      <td>1</td>\n",
       "      <td>Installing the game was a struggle (because of...</td>\n",
       "    </tr>\n",
       "    <tr>\n",
       "      <th>1</th>\n",
       "      <td>4</td>\n",
       "      <td>If you like rally cars get this game you will ...</td>\n",
       "    </tr>\n",
       "    <tr>\n",
       "      <th>10</th>\n",
       "      <td>5</td>\n",
       "      <td>I'm not quite finished with the game's DiRT To...</td>\n",
       "    </tr>\n",
       "    <tr>\n",
       "      <th>100</th>\n",
       "      <td>3</td>\n",
       "      <td>They work fine but i feel like they have a lit...</td>\n",
       "    </tr>\n",
       "    <tr>\n",
       "      <th>1000</th>\n",
       "      <td>5</td>\n",
       "      <td>This game in my opinion is the best of all the...</td>\n",
       "    </tr>\n",
       "  </tbody>\n",
       "</table>\n",
       "</div>"
      ],
      "text/plain": [
       "      rating                                               text\n",
       "0          1  Installing the game was a struggle (because of...\n",
       "1          4  If you like rally cars get this game you will ...\n",
       "10         5  I'm not quite finished with the game's DiRT To...\n",
       "100        3  They work fine but i feel like they have a lit...\n",
       "1000       5  This game in my opinion is the best of all the..."
      ]
     },
     "execution_count": 4,
     "metadata": {},
     "output_type": "execute_result"
    }
   ],
   "source": [
    "df.head()"
   ]
  },
  {
   "cell_type": "code",
   "execution_count": 5,
   "metadata": {},
   "outputs": [
    {
     "data": {
      "text/plain": [
       "(231780, 2)"
      ]
     },
     "execution_count": 5,
     "metadata": {},
     "output_type": "execute_result"
    }
   ],
   "source": [
    "df.shape"
   ]
  },
  {
   "cell_type": "code",
   "execution_count": 6,
   "metadata": {},
   "outputs": [
    {
     "data": {
      "text/html": [
       "<div>\n",
       "<table border=\"1\" class=\"dataframe\">\n",
       "  <thead>\n",
       "    <tr style=\"text-align: right;\">\n",
       "      <th></th>\n",
       "      <th>rating</th>\n",
       "    </tr>\n",
       "  </thead>\n",
       "  <tbody>\n",
       "    <tr>\n",
       "      <th>count</th>\n",
       "      <td>231780.000000</td>\n",
       "    </tr>\n",
       "    <tr>\n",
       "      <th>mean</th>\n",
       "      <td>4.086397</td>\n",
       "    </tr>\n",
       "    <tr>\n",
       "      <th>std</th>\n",
       "      <td>1.202330</td>\n",
       "    </tr>\n",
       "    <tr>\n",
       "      <th>min</th>\n",
       "      <td>1.000000</td>\n",
       "    </tr>\n",
       "    <tr>\n",
       "      <th>25%</th>\n",
       "      <td>4.000000</td>\n",
       "    </tr>\n",
       "    <tr>\n",
       "      <th>50%</th>\n",
       "      <td>5.000000</td>\n",
       "    </tr>\n",
       "    <tr>\n",
       "      <th>75%</th>\n",
       "      <td>5.000000</td>\n",
       "    </tr>\n",
       "    <tr>\n",
       "      <th>max</th>\n",
       "      <td>5.000000</td>\n",
       "    </tr>\n",
       "  </tbody>\n",
       "</table>\n",
       "</div>"
      ],
      "text/plain": [
       "              rating\n",
       "count  231780.000000\n",
       "mean        4.086397\n",
       "std         1.202330\n",
       "min         1.000000\n",
       "25%         4.000000\n",
       "50%         5.000000\n",
       "75%         5.000000\n",
       "max         5.000000"
      ]
     },
     "execution_count": 6,
     "metadata": {},
     "output_type": "execute_result"
    }
   ],
   "source": [
    "df.describe()"
   ]
  },
  {
   "cell_type": "code",
   "execution_count": 7,
   "metadata": {},
   "outputs": [
    {
     "data": {
      "text/plain": [
       "5    120185\n",
       "4     54804\n",
       "3     28275\n",
       "1     14853\n",
       "2     13663\n",
       "Name: rating, dtype: int64"
      ]
     },
     "execution_count": 7,
     "metadata": {},
     "output_type": "execute_result"
    }
   ],
   "source": [
    "df['rating'].value_counts()#(normalize=True)"
   ]
  },
  {
   "cell_type": "code",
   "execution_count": 8,
   "metadata": {},
   "outputs": [
    {
     "data": {
      "image/png": "[encoded data removed]",
      "text/plain": [
       "<matplotlib.figure.Figure at 0x111412110>"
      ]
     },
     "metadata": {},
     "output_type": "display_data"
    }
   ],
   "source": [
    "plt.hist(df['rating'], bins = [0.5,1.5,2.5,3.5,4.5,5.5], color = 'blue', ec='black')\n",
    "plt.xlabel('rating',fontsize=14)\n",
    "plt.ylabel('number of reviews',fontsize=14)\n",
    "plt.xticks([1,2,3,4,5])\n",
    "plt.show()"
   ]
  },
  {
   "cell_type": "markdown",
   "metadata": {},
   "source": [
    "## Select only ratings = 1,3,5 uniformly"
   ]
  },
  {
   "cell_type": "code",
   "execution_count": 9,
   "metadata": {
    "collapsed": true
   },
   "outputs": [],
   "source": [
    "data = df[df['rating'].isin([1,3,5])].groupby('rating').apply(lambda s: s.sample(10000)).reset_index(drop=True)"
   ]
  },
  {
   "cell_type": "code",
   "execution_count": 10,
   "metadata": {
    "collapsed": true
   },
   "outputs": [],
   "source": [
    "data['rating']=data['rating'].map({1:0,3:1,5:2})"
   ]
  },
  {
   "cell_type": "code",
   "execution_count": 11,
   "metadata": {},
   "outputs": [
    {
     "data": {
      "image/png": "[encoded data removed]",
      "text/plain": [
       "<matplotlib.figure.Figure at 0x17a64ff10>"
      ]
     },
     "metadata": {},
     "output_type": "display_data"
    }
   ],
   "source": [
    "plt.hist(data['rating'], bins =[-0.5,0.5,1.5,2.5], color = 'blue', ec='black')\n",
    "plt.xlabel('rating',fontsize=14)\n",
    "plt.ylabel('number of reviews',fontsize=14)\n",
    "plt.xticks([0,1,2])\n",
    "plt.show()"
   ]
  },
  {
   "cell_type": "markdown",
   "metadata": {},
   "source": [
    "## Splitting into Train / Val / Test Sets"
   ]
  },
  {
   "cell_type": "code",
   "execution_count": 12,
   "metadata": {
    "collapsed": true
   },
   "outputs": [],
   "source": [
    "x_train, x_val, y_train, y_val = train_test_split(data['text'], data['rating'], test_size=0.2,stratify=data['rating'])"
   ]
  },
  {
   "cell_type": "code",
   "execution_count": 13,
   "metadata": {
    "collapsed": true
   },
   "outputs": [],
   "source": [
    "x_val, x_test, y_val, y_test = train_test_split(x_val, y_val, test_size=0.5,stratify=y_val)"
   ]
  },
  {
   "cell_type": "markdown",
   "metadata": {},
   "source": [
    "## Tokenization"
   ]
  },
  {
   "cell_type": "code",
   "execution_count": 14,
   "metadata": {
    "collapsed": true
   },
   "outputs": [],
   "source": [
    "def clean_text(text):\n",
    "    \n",
    "    # Remove puncuation\n",
    "    text = text.encode('utf-8').translate(None,string.punctuation)\n",
    "    \n",
    "    # Clean the text\n",
    "    text = re.sub('[^0-9a-zA-Z]', ' ', text)\n",
    "    \n",
    "    # Split words and convert to lower case\n",
    "    text = text.lower().split()\n",
    "    \n",
    "    # Remove stop words\n",
    "    stops = set(stopwords.words(\"english\"))\n",
    "    text = [w for w in text if not w in stops]\n",
    "    \n",
    "    # Stemming\n",
    "    stemmer = SnowballStemmer('english')\n",
    "    stemmed_words = [stemmer.stem(word) for word in text]\n",
    "    text = \" \".join(stemmed_words).encode('utf-8')\n",
    "\n",
    "    return text"
   ]
  },
  {
   "cell_type": "code",
   "execution_count": 15,
   "metadata": {
    "collapsed": true
   },
   "outputs": [],
   "source": [
    "#x = data['text'].apply(clean_text)\n",
    "x_train = x_train.apply(clean_text)\n",
    "x_val = x_val.apply(clean_text)\n",
    "x_test = x_test.apply(clean_text)"
   ]
  },
  {
   "cell_type": "code",
   "execution_count": 16,
   "metadata": {},
   "outputs": [
    {
     "data": {
      "text/plain": [
       "25461    ok game perfect graphic alright next gen versi...\n",
       "22857    omg happi got game rememb commerci prompt game...\n",
       "5424     soni ruin game combat upgrad put beta refus li...\n",
       "25441    hear issu peopl consol littl worri well say ex...\n",
       "7286     sinc review left outstand comment percept size...\n",
       "Name: text, dtype: object"
      ]
     },
     "execution_count": 16,
     "metadata": {},
     "output_type": "execute_result"
    }
   ],
   "source": [
    "x_train.head()"
   ]
  },
  {
   "cell_type": "code",
   "execution_count": 17,
   "metadata": {
    "collapsed": true
   },
   "outputs": [],
   "source": [
    "vocabulary_size = 20000\n",
    "max_sequence_length = 200"
   ]
  },
  {
   "cell_type": "code",
   "execution_count": 18,
   "metadata": {
    "collapsed": true
   },
   "outputs": [],
   "source": [
    "tokenizer = Tokenizer(num_words=vocabulary_size)"
   ]
  },
  {
   "cell_type": "code",
   "execution_count": 19,
   "metadata": {
    "collapsed": true
   },
   "outputs": [],
   "source": [
    "tokenizer.fit_on_texts(x_train)\n",
    "#vocabulary = tokenizer.word_index"
   ]
  },
  {
   "cell_type": "code",
   "execution_count": 20,
   "metadata": {},
   "outputs": [
    {
     "data": {
      "text/plain": [
       "array([[   0,    0,    0, ..., 1066,   33,  787],\n",
       "       [   0,    0,    0, ...,  267,   29,  223],\n",
       "       [   0,    0,    0, ...,  383,    1,   24],\n",
       "       ...,\n",
       "       [   0,    0,    0, ...,   39, 8645,    4],\n",
       "       [   0,    0,    0, ...,  132, 1088,    2],\n",
       "       [   0,    0,    0, ...,    2,    8,   18]], dtype=int32)"
      ]
     },
     "execution_count": 20,
     "metadata": {},
     "output_type": "execute_result"
    }
   ],
   "source": [
    "train_sequences = pad_sequences(tokenizer.texts_to_sequences(x_train), maxlen=max_sequence_length)\n",
    "train_sequences"
   ]
  },
  {
   "cell_type": "code",
   "execution_count": 21,
   "metadata": {
    "collapsed": true
   },
   "outputs": [],
   "source": [
    "val_sequences = pad_sequences(tokenizer.texts_to_sequences(x_val), maxlen=max_sequence_length)"
   ]
  },
  {
   "cell_type": "code",
   "execution_count": 22,
   "metadata": {
    "collapsed": true
   },
   "outputs": [],
   "source": [
    "test_sequences = pad_sequences(tokenizer.texts_to_sequences(x_test), maxlen=max_sequence_length)"
   ]
  },
  {
   "cell_type": "markdown",
   "metadata": {},
   "source": [
    "## Parameters optimization"
   ]
  },
  {
   "cell_type": "code",
   "execution_count": 23,
   "metadata": {},
   "outputs": [
    {
     "data": {
      "text/plain": [
       "\"\\n\\ndef test_model(NN=100):\\n    model = Sequential()\\n    model.add(Embedding(vocabulary_size, 100, input_length=max_sequence_length))#input_dim, output_dim, input_length\\n    model.add(Dense(NN, activation='relu'))\\n    #model.add(Dropout(0.2))\\n    model.add(Flatten())\\n    model.add(Dense(3, activation='softmax'))\\n    model.compile(loss='categorical_crossentropy', optimizer='Adadelta', metrics=['accuracy'])\\n    return model\\n\\nNN = [1,2,5,10,20,50,100]\\nval_acc=[]\\nacc=[]\\nEpochs=5\\nfor n in NN:\\n    print 'Testing NN =',n\\n    print '\\n'\\n    test_history = test_model(n).fit(\\n    train_sequences,\\n    keras.utils.to_categorical(y_train,3),\\n    batch_size=100,\\n    epochs=Epochs,\\n    #validation_split=0.2\\n    validation_data=(val_sequences,keras.utils.to_categorical(y_val,3)))\\n    val_acc.append(test_history.history['val_acc'][Epochs-1])\\n    acc.append(test_history.history['acc'][Epochs-1])\\n    print '\\n'\\n    \\nplt.plot(NN,val_acc,c='r',label='val acc')\\nplt.plot(NN,acc,c='b',label='train acc')\\nplt.ylabel('acc')\\nplt.xlabel('NN')\\nplt.legend()\\nplt.show()\\n\\n\""
      ]
     },
     "execution_count": 23,
     "metadata": {},
     "output_type": "execute_result"
    }
   ],
   "source": [
    "'''\n",
    "\n",
    "def test_model(NN=100):\n",
    "    model = Sequential()\n",
    "    model.add(Embedding(vocabulary_size, 100, input_length=max_sequence_length))#input_dim, output_dim, input_length\n",
    "    model.add(Dense(NN, activation='relu'))\n",
    "    #model.add(Dropout(0.2))\n",
    "    model.add(Flatten())\n",
    "    model.add(Dense(3, activation='softmax'))\n",
    "    model.compile(loss='categorical_crossentropy', optimizer='Adadelta', metrics=['accuracy'])\n",
    "    return model\n",
    "\n",
    "NN = [1,2,5,10,20,50,100]\n",
    "val_acc=[]\n",
    "acc=[]\n",
    "Epochs=5\n",
    "for n in NN:\n",
    "    print 'Testing NN =',n\n",
    "    print '\\n'\n",
    "    test_history = test_model(n).fit(\n",
    "    train_sequences,\n",
    "    keras.utils.to_categorical(y_train,3),\n",
    "    batch_size=100,\n",
    "    epochs=Epochs,\n",
    "    #validation_split=0.2\n",
    "    validation_data=(val_sequences,keras.utils.to_categorical(y_val,3)))\n",
    "    val_acc.append(test_history.history['val_acc'][Epochs-1])\n",
    "    acc.append(test_history.history['acc'][Epochs-1])\n",
    "    print '\\n'\n",
    "    \n",
    "plt.plot(NN,val_acc,c='r',label='val acc')\n",
    "plt.plot(NN,acc,c='b',label='train acc')\n",
    "plt.ylabel('acc')\n",
    "plt.xlabel('NN')\n",
    "plt.legend()\n",
    "plt.show()\n",
    "\n",
    "'''"
   ]
  },
  {
   "cell_type": "markdown",
   "metadata": {},
   "source": [
    "## The model"
   ]
  },
  {
   "cell_type": "code",
   "execution_count": 24,
   "metadata": {
    "collapsed": true
   },
   "outputs": [],
   "source": [
    "model = Sequential()\n",
    "model.add(Embedding(vocabulary_size, 100, input_length=max_sequence_length))#input_dim, output_dim, input_length\n",
    "model.add(Dense(50, activation='relu'))\n",
    "model.add(Flatten())\n",
    "model.add(Dense(3, activation='softmax'))\n",
    "\n",
    "#model = Sequential()\n",
    "#model.add(Embedding(vocabulary_size, 100, input_length=max_sequence_length))#input_dim, output_dim, input_length\n",
    "#model.add(Conv1D(filters = 50, kernel_size=4, activation='relu'))\n",
    "#model.add(MaxPooling1D(pool_size=2))\n",
    "#model.add(Flatten())\n",
    "#model.add(Dense(10, activation='relu'))\n",
    "#model.add(Dense(3, activation='softmax'))"
   ]
  },
  {
   "cell_type": "code",
   "execution_count": 25,
   "metadata": {
    "collapsed": true
   },
   "outputs": [],
   "source": [
    "model.compile(loss='categorical_crossentropy', optimizer='Adadelta', metrics=['accuracy'])"
   ]
  },
  {
   "cell_type": "markdown",
   "metadata": {},
   "source": [
    "## Train the model"
   ]
  },
  {
   "cell_type": "code",
   "execution_count": 26,
   "metadata": {},
   "outputs": [
    {
     "name": "stdout",
     "output_type": "stream",
     "text": [
      "Train on 24000 samples, validate on 3000 samples\n",
      "Epoch 1/10\n",
      "24000/24000 [==============================] - 20s - loss: 1.0633 - acc: 0.4382 - val_loss: 0.9908 - val_acc: 0.5293\n",
      "Epoch 2/10\n",
      "24000/24000 [==============================] - 21s - loss: 0.8093 - acc: 0.6346 - val_loss: 0.7215 - val_acc: 0.6847\n",
      "Epoch 3/10\n",
      "24000/24000 [==============================] - 21s - loss: 0.6448 - acc: 0.7243 - val_loss: 0.6566 - val_acc: 0.7187\n",
      "Epoch 4/10\n",
      "24000/24000 [==============================] - 20s - loss: 0.5748 - acc: 0.7604 - val_loss: 0.6422 - val_acc: 0.7213\n",
      "Epoch 5/10\n",
      "24000/24000 [==============================] - 21s - loss: 0.5290 - acc: 0.7831 - val_loss: 0.6381 - val_acc: 0.7207\n",
      "Epoch 6/10\n",
      "24000/24000 [==============================] - 22s - loss: 0.4941 - acc: 0.7997 - val_loss: 0.6416 - val_acc: 0.7240\n",
      "Epoch 7/10\n",
      "24000/24000 [==============================] - 21s - loss: 0.4662 - acc: 0.8142 - val_loss: 0.6594 - val_acc: 0.7203\n",
      "Epoch 8/10\n",
      "24000/24000 [==============================] - 18s - loss: 0.4399 - acc: 0.8272 - val_loss: 0.6593 - val_acc: 0.7257\n",
      "Epoch 9/10\n",
      "24000/24000 [==============================] - 19s - loss: 0.4164 - acc: 0.8383 - val_loss: 0.6652 - val_acc: 0.7250\n",
      "Epoch 10/10\n",
      "24000/24000 [==============================] - 18s - loss: 0.3930 - acc: 0.8501 - val_loss: 0.6775 - val_acc: 0.7263\n"
     ]
    }
   ],
   "source": [
    "history = model.fit(\n",
    "    train_sequences,\n",
    "    keras.utils.to_categorical(y_train,3),\n",
    "    batch_size=100,\n",
    "    epochs=10,\n",
    "    #validation_split=0.2\n",
    "    validation_data=(val_sequences,keras.utils.to_categorical(y_val,3))\n",
    ")"
   ]
  },
  {
   "cell_type": "code",
   "execution_count": 27,
   "metadata": {},
   "outputs": [
    {
     "data": {
      "text/plain": [
       "['acc', 'loss', 'val_acc', 'val_loss']"
      ]
     },
     "execution_count": 27,
     "metadata": {},
     "output_type": "execute_result"
    }
   ],
   "source": [
    "history.history.keys()"
   ]
  },
  {
   "cell_type": "code",
   "execution_count": 28,
   "metadata": {},
   "outputs": [
    {
     "data": {
      "image/png": "[encoded data removed]",
      "text/plain": [
       "<matplotlib.figure.Figure at 0x17c04cd50>"
      ]
     },
     "metadata": {},
     "output_type": "display_data"
    }
   ],
   "source": [
    "plt.plot(history.epoch,history.history['acc'],c='b',label='train acc')\n",
    "plt.plot(history.epoch,history.history['val_acc'],c='r',label='val acc')\n",
    "plt.ylabel('acc')\n",
    "plt.xlabel('epoch')\n",
    "plt.legend()\n",
    "plt.show()"
   ]
  },
  {
   "cell_type": "code",
   "execution_count": 29,
   "metadata": {
    "collapsed": true
   },
   "outputs": [],
   "source": [
    "#model.summary()"
   ]
  },
  {
   "cell_type": "markdown",
   "metadata": {},
   "source": [
    "## Make predictions"
   ]
  },
  {
   "cell_type": "code",
   "execution_count": 30,
   "metadata": {},
   "outputs": [
    {
     "name": "stdout",
     "output_type": "stream",
     "text": [
      "2784/3000 [==========================>...] - ETA: 0s"
     ]
    }
   ],
   "source": [
    "y_pred = model.predict_classes(test_sequences)#np.argmax(model.predict(test_sequences),axis=1)"
   ]
  },
  {
   "cell_type": "code",
   "execution_count": 31,
   "metadata": {},
   "outputs": [
    {
     "data": {
      "text/html": [
       "<div>\n",
       "<table border=\"1\" class=\"dataframe\">\n",
       "  <thead>\n",
       "    <tr style=\"text-align: right;\">\n",
       "      <th>Predictions</th>\n",
       "      <th>0</th>\n",
       "      <th>1</th>\n",
       "      <th>2</th>\n",
       "    </tr>\n",
       "    <tr>\n",
       "      <th>Actual</th>\n",
       "      <th></th>\n",
       "      <th></th>\n",
       "      <th></th>\n",
       "    </tr>\n",
       "  </thead>\n",
       "  <tbody>\n",
       "    <tr>\n",
       "      <th>0</th>\n",
       "      <td>798</td>\n",
       "      <td>130</td>\n",
       "      <td>72</td>\n",
       "    </tr>\n",
       "    <tr>\n",
       "      <th>1</th>\n",
       "      <td>186</td>\n",
       "      <td>610</td>\n",
       "      <td>204</td>\n",
       "    </tr>\n",
       "    <tr>\n",
       "      <th>2</th>\n",
       "      <td>70</td>\n",
       "      <td>153</td>\n",
       "      <td>777</td>\n",
       "    </tr>\n",
       "  </tbody>\n",
       "</table>\n",
       "</div>"
      ],
      "text/plain": [
       "Predictions    0    1    2\n",
       "Actual                    \n",
       "0            798  130   72\n",
       "1            186  610  204\n",
       "2             70  153  777"
      ]
     },
     "execution_count": 31,
     "metadata": {},
     "output_type": "execute_result"
    }
   ],
   "source": [
    "pd.crosstab(y_test, y_pred, rownames=['Actual'], colnames=['Predictions'])"
   ]
  },
  {
   "cell_type": "markdown",
   "metadata": {},
   "source": [
    "## Evaluate the model"
   ]
  },
  {
   "cell_type": "code",
   "execution_count": 32,
   "metadata": {},
   "outputs": [
    {
     "data": {
      "text/plain": [
       "[0.6902118997573853, 0.7283333333333334]"
      ]
     },
     "execution_count": 32,
     "metadata": {},
     "output_type": "execute_result"
    }
   ],
   "source": [
    "model.evaluate(test_sequences,keras.utils.to_categorical(y_test,3), verbose=0)#[loss, accuracy]"
   ]
  },
  {
   "cell_type": "markdown",
   "metadata": {},
   "source": [
    "## Save and load the model"
   ]
  },
  {
   "cell_type": "code",
   "execution_count": 33,
   "metadata": {
    "collapsed": true
   },
   "outputs": [],
   "source": [
    "model.save('model.h5')"
   ]
  },
  {
   "cell_type": "code",
   "execution_count": 34,
   "metadata": {
    "collapsed": true
   },
   "outputs": [],
   "source": [
    "model2 = load_model('model.h5')"
   ]
  },
  {
   "cell_type": "code",
   "execution_count": 35,
   "metadata": {},
   "outputs": [
    {
     "name": "stdout",
     "output_type": "stream",
     "text": [
      "2880/3000 [===========================>..] - ETA: 0s"
     ]
    },
    {
     "data": {
      "text/plain": [
       "array([0, 2, 1, ..., 0, 2, 1])"
      ]
     },
     "execution_count": 35,
     "metadata": {},
     "output_type": "execute_result"
    }
   ],
   "source": [
    "model2.predict_classes(test_sequences)"
   ]
  }
 ],
 "metadata": {
  "kernelspec": {
   "display_name": "Python 2",
   "language": "python",
   "name": "python2"
  },
  "language_info": {
   "codemirror_mode": {
    "name": "ipython",
    "version": 2
   },
   "file_extension": ".py",
   "mimetype": "text/x-python",
   "name": "python",
   "nbconvert_exporter": "python",
   "pygments_lexer": "ipython2",
   "version": "2.7.10"
  }
 },
 "nbformat": 4,
 "nbformat_minor": 2
}
