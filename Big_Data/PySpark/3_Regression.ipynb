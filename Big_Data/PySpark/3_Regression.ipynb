{
 "cells": [
  {
   "cell_type": "code",
   "execution_count": 1,
   "metadata": {
    "collapsed": true
   },
   "outputs": [],
   "source": [
    "import numpy as np\n",
    "import pandas as pd\n",
    "import matplotlib.pyplot as plt"
   ]
  },
  {
   "cell_type": "code",
   "execution_count": 2,
   "metadata": {
    "collapsed": true
   },
   "outputs": [],
   "source": [
    "import findspark\n",
    "findspark.init()\n",
    "import pyspark\n",
    "from pyspark.sql.functions import *\n",
    "from pyspark.sql import SparkSession\n",
    "from pyspark import SparkContext, SparkConf\n",
    "from pyspark.ml.feature import VectorAssembler,MinMaxScaler,StandardScaler\n",
    "from pyspark.ml.regression import LinearRegression, LinearRegressionModel\n",
    "from pyspark.ml.evaluation import RegressionEvaluator"
   ]
  },
  {
   "cell_type": "code",
   "execution_count": 3,
   "metadata": {
    "collapsed": true
   },
   "outputs": [],
   "source": [
    "conf = SparkConf().setMaster(\"local[*]\")\n",
    "sc = SparkContext(conf=conf)"
   ]
  },
  {
   "cell_type": "code",
   "execution_count": 4,
   "metadata": {
    "collapsed": true
   },
   "outputs": [],
   "source": [
    "spark = SparkSession\\\n",
    "    .builder\\\n",
    "    .appName(\"MyApp\")\\\n",
    "    .getOrCreate()"
   ]
  },
  {
   "cell_type": "markdown",
   "metadata": {},
   "source": [
    "## Load the dataset"
   ]
  },
  {
   "cell_type": "code",
   "execution_count": 5,
   "metadata": {
    "collapsed": true
   },
   "outputs": [],
   "source": [
    "df = spark.read\\\n",
    "    .format(\"csv\")\\\n",
    "    .option(\"header\", \"true\")\\\n",
    "    .option(\"inferschema\", \"true\")\\\n",
    "    .option(\"delimiter\",\",\")\\\n",
    "    .load(\"Datasets/Data-Energy.dat\")#.repartition(3)"
   ]
  },
  {
   "cell_type": "markdown",
   "metadata": {},
   "source": [
    "## Explore the dataset"
   ]
  },
  {
   "cell_type": "code",
   "execution_count": 6,
   "metadata": {},
   "outputs": [
    {
     "name": "stdout",
     "output_type": "stream",
     "text": [
      "+------+-----+---+---+---+---+-------------+\n",
      "|    B2|    G| DO| Dz| P1| P2|            E|\n",
      "+------+-----+---+---+---+---+-------------+\n",
      "| 0.005|0.002|  5|0.5|100| 10|0.79466009896|\n",
      "|0.0075|0.002|  5|0.5|100| 10|1.30668533519|\n",
      "|  0.01|0.002|  5|0.5|100| 10|1.56549009743|\n",
      "| 0.015|0.002|  5|0.5|100| 10|1.74337854203|\n",
      "|  0.02|0.002|  5|0.5|100| 10|1.78947156288|\n",
      "+------+-----+---+---+---+---+-------------+\n",
      "only showing top 5 rows\n",
      "\n"
     ]
    }
   ],
   "source": [
    "df.show(5)"
   ]
  },
  {
   "cell_type": "code",
   "execution_count": 7,
   "metadata": {},
   "outputs": [
    {
     "name": "stdout",
     "output_type": "stream",
     "text": [
      "root\n",
      " |-- B2: double (nullable = true)\n",
      " |-- G: double (nullable = true)\n",
      " |-- DO: integer (nullable = true)\n",
      " |-- Dz: double (nullable = true)\n",
      " |-- P1: integer (nullable = true)\n",
      " |-- P2: integer (nullable = true)\n",
      " |-- E: double (nullable = true)\n",
      "\n"
     ]
    }
   ],
   "source": [
    "df.printSchema()"
   ]
  },
  {
   "cell_type": "code",
   "execution_count": 8,
   "metadata": {},
   "outputs": [
    {
     "data": {
      "text/plain": [
       "['B2', 'G', 'DO', 'Dz', 'P1', 'P2', 'E']"
      ]
     },
     "execution_count": 8,
     "metadata": {},
     "output_type": "execute_result"
    }
   ],
   "source": [
    "df.columns"
   ]
  },
  {
   "cell_type": "code",
   "execution_count": 9,
   "metadata": {},
   "outputs": [
    {
     "data": {
      "text/plain": [
       "7"
      ]
     },
     "execution_count": 9,
     "metadata": {},
     "output_type": "execute_result"
    }
   ],
   "source": [
    "len(df.columns)"
   ]
  },
  {
   "cell_type": "code",
   "execution_count": 10,
   "metadata": {},
   "outputs": [
    {
     "data": {
      "text/plain": [
       "43"
      ]
     },
     "execution_count": 10,
     "metadata": {},
     "output_type": "execute_result"
    }
   ],
   "source": [
    "df.count()"
   ]
  },
  {
   "cell_type": "code",
   "execution_count": 11,
   "metadata": {},
   "outputs": [
    {
     "data": {
      "text/html": [
       "<div>\n",
       "<style scoped>\n",
       "    .dataframe tbody tr th:only-of-type {\n",
       "        vertical-align: middle;\n",
       "    }\n",
       "\n",
       "    .dataframe tbody tr th {\n",
       "        vertical-align: top;\n",
       "    }\n",
       "\n",
       "    .dataframe thead th {\n",
       "        text-align: right;\n",
       "    }\n",
       "</style>\n",
       "<table border=\"1\" class=\"dataframe\">\n",
       "  <thead>\n",
       "    <tr style=\"text-align: right;\">\n",
       "      <th></th>\n",
       "      <th>summary</th>\n",
       "      <th>B2</th>\n",
       "      <th>G</th>\n",
       "      <th>DO</th>\n",
       "      <th>Dz</th>\n",
       "      <th>P1</th>\n",
       "      <th>P2</th>\n",
       "      <th>E</th>\n",
       "    </tr>\n",
       "  </thead>\n",
       "  <tbody>\n",
       "    <tr>\n",
       "      <th>0</th>\n",
       "      <td>count</td>\n",
       "      <td>43</td>\n",
       "      <td>43</td>\n",
       "      <td>43</td>\n",
       "      <td>43</td>\n",
       "      <td>43</td>\n",
       "      <td>43</td>\n",
       "      <td>43</td>\n",
       "    </tr>\n",
       "    <tr>\n",
       "      <th>1</th>\n",
       "      <td>mean</td>\n",
       "      <td>0.01936046511627908</td>\n",
       "      <td>0.001965116279069769</td>\n",
       "      <td>5.209302325581396</td>\n",
       "      <td>0.4674418604651163</td>\n",
       "      <td>91.62790697674419</td>\n",
       "      <td>15.232558139534884</td>\n",
       "      <td>1.5575562065350228</td>\n",
       "    </tr>\n",
       "    <tr>\n",
       "      <th>2</th>\n",
       "      <td>stddev</td>\n",
       "      <td>0.003822436242259001</td>\n",
       "      <td>3.344389195640339E-4</td>\n",
       "      <td>0.8326131993647276</td>\n",
       "      <td>0.11067096283806276</td>\n",
       "      <td>20.345846956371542</td>\n",
       "      <td>13.97078108956302</td>\n",
       "      <td>1.0178889660513077</td>\n",
       "    </tr>\n",
       "    <tr>\n",
       "      <th>3</th>\n",
       "      <td>min</td>\n",
       "      <td>0.005</td>\n",
       "      <td>5.0E-4</td>\n",
       "      <td>4</td>\n",
       "      <td>0.0</td>\n",
       "      <td>20</td>\n",
       "      <td>5</td>\n",
       "      <td>0.0</td>\n",
       "    </tr>\n",
       "    <tr>\n",
       "      <th>4</th>\n",
       "      <td>max</td>\n",
       "      <td>0.03</td>\n",
       "      <td>0.003</td>\n",
       "      <td>9</td>\n",
       "      <td>0.6</td>\n",
       "      <td>100</td>\n",
       "      <td>70</td>\n",
       "      <td>4.32370124599</td>\n",
       "    </tr>\n",
       "  </tbody>\n",
       "</table>\n",
       "</div>"
      ],
      "text/plain": [
       "  summary                    B2                     G                  DO  \\\n",
       "0   count                    43                    43                  43   \n",
       "1    mean   0.01936046511627908  0.001965116279069769   5.209302325581396   \n",
       "2  stddev  0.003822436242259001  3.344389195640339E-4  0.8326131993647276   \n",
       "3     min                 0.005                5.0E-4                   4   \n",
       "4     max                  0.03                 0.003                   9   \n",
       "\n",
       "                    Dz                  P1                  P2  \\\n",
       "0                   43                  43                  43   \n",
       "1   0.4674418604651163   91.62790697674419  15.232558139534884   \n",
       "2  0.11067096283806276  20.345846956371542   13.97078108956302   \n",
       "3                  0.0                  20                   5   \n",
       "4                  0.6                 100                  70   \n",
       "\n",
       "                    E  \n",
       "0                  43  \n",
       "1  1.5575562065350228  \n",
       "2  1.0178889660513077  \n",
       "3                 0.0  \n",
       "4       4.32370124599  "
      ]
     },
     "execution_count": 11,
     "metadata": {},
     "output_type": "execute_result"
    }
   ],
   "source": [
    "#df.describe().show()\n",
    "df.describe().toPandas()"
   ]
  },
  {
   "cell_type": "code",
   "execution_count": 12,
   "metadata": {
    "collapsed": true
   },
   "outputs": [],
   "source": [
    "L = [[cn,df.stat.corr(\"E\",cn)] for cn in df.columns]"
   ]
  },
  {
   "cell_type": "code",
   "execution_count": 13,
   "metadata": {
    "collapsed": true
   },
   "outputs": [],
   "source": [
    "df_corr = spark.createDataFrame(L).toDF(\"colname\",\"correlation\")"
   ]
  },
  {
   "cell_type": "code",
   "execution_count": 14,
   "metadata": {},
   "outputs": [
    {
     "name": "stdout",
     "output_type": "stream",
     "text": [
      "+-------+-------------------+\n",
      "|colname|   abs(correlation)|\n",
      "+-------+-------------------+\n",
      "|      E|                1.0|\n",
      "|     P2| 0.7872785515582431|\n",
      "|     P1| 0.4624966717181379|\n",
      "|     Dz|0.35892186537488774|\n",
      "|      G| 0.2895968016425225|\n",
      "|     DO| 0.1852595379889137|\n",
      "|     B2|0.10149763084928337|\n",
      "+-------+-------------------+\n",
      "\n"
     ]
    }
   ],
   "source": [
    "df_corr.select(col(\"colname\"),abs(col(\"correlation\")))\\\n",
    "    .sort(col(\"abs(correlation)\").desc()).show()"
   ]
  },
  {
   "cell_type": "markdown",
   "metadata": {},
   "source": [
    "## Apply Vector Assembler"
   ]
  },
  {
   "cell_type": "code",
   "execution_count": 15,
   "metadata": {},
   "outputs": [
    {
     "data": {
      "text/plain": [
       "['B2', 'G', 'DO', 'Dz', 'P1', 'P2']"
      ]
     },
     "execution_count": 15,
     "metadata": {},
     "output_type": "execute_result"
    }
   ],
   "source": [
    "features = df.columns[0:len(df.columns)-1]\n",
    "features"
   ]
  },
  {
   "cell_type": "code",
   "execution_count": 16,
   "metadata": {
    "collapsed": true
   },
   "outputs": [],
   "source": [
    "assembler = VectorAssembler()\\\n",
    "    .setInputCols(features)\\\n",
    "    .setOutputCol(\"features\")"
   ]
  },
  {
   "cell_type": "code",
   "execution_count": 17,
   "metadata": {},
   "outputs": [
    {
     "name": "stdout",
     "output_type": "stream",
     "text": [
      "+--------------------+--------------+\n",
      "|            features|         label|\n",
      "+--------------------+--------------+\n",
      "|[0.005,0.002,5.0,...| 0.79466009896|\n",
      "|[0.0075,0.002,5.0...| 1.30668533519|\n",
      "|[0.01,0.002,5.0,0...| 1.56549009743|\n",
      "|[0.015,0.002,5.0,...| 1.74337854203|\n",
      "|[0.02,0.002,5.0,0...| 1.78947156288|\n",
      "|[0.025,0.002,5.0,...|  1.7823812601|\n",
      "|[0.03,0.002,5.0,0...| 1.74667199456|\n",
      "|[0.02,0.002,5.0,0...|           0.0|\n",
      "|[0.02,0.002,5.0,0...|0.346016525868|\n",
      "|[0.02,0.002,5.0,0...|0.696187793454|\n",
      "+--------------------+--------------+\n",
      "only showing top 10 rows\n",
      "\n"
     ]
    }
   ],
   "source": [
    "df_v = assembler.transform(df)\\\n",
    "    .select(col(\"features\"), col(\"E\").alias(\"label\"))\n",
    "\n",
    "df_v.show(10)"
   ]
  },
  {
   "cell_type": "markdown",
   "metadata": {},
   "source": [
    "## Split into train and test sets"
   ]
  },
  {
   "cell_type": "code",
   "execution_count": 18,
   "metadata": {
    "collapsed": true
   },
   "outputs": [],
   "source": [
    "trainingData, testData = df_v.randomSplit([0.7, 0.3])"
   ]
  },
  {
   "cell_type": "markdown",
   "metadata": {},
   "source": [
    "## Scale the features"
   ]
  },
  {
   "cell_type": "code",
   "execution_count": 19,
   "metadata": {
    "collapsed": true
   },
   "outputs": [],
   "source": [
    "scaler = MinMaxScaler()\\\n",
    "    .setInputCol(\"features\")\\\n",
    "    .setOutputCol(\"scaledFeatures\") #StandardScaler"
   ]
  },
  {
   "cell_type": "code",
   "execution_count": 20,
   "metadata": {
    "collapsed": true
   },
   "outputs": [],
   "source": [
    "s = scaler.fit(trainingData)"
   ]
  },
  {
   "cell_type": "code",
   "execution_count": 21,
   "metadata": {
    "collapsed": true
   },
   "outputs": [],
   "source": [
    "trainingData_s = s.transform(trainingData)\n",
    "testData_s = s.transform(testData)"
   ]
  },
  {
   "cell_type": "markdown",
   "metadata": {},
   "source": [
    "## Train the model"
   ]
  },
  {
   "cell_type": "code",
   "execution_count": 22,
   "metadata": {
    "collapsed": true
   },
   "outputs": [],
   "source": [
    "lr = LinearRegression()\\\n",
    "    .setMaxIter(100)\\\n",
    "    .setElasticNetParam(1.0)\\\n",
    "    .setFeaturesCol(\"scaledFeatures\")\n",
    "    #.setLabelCol(\"y\") #by default input columns: label and features"
   ]
  },
  {
   "cell_type": "code",
   "execution_count": 23,
   "metadata": {
    "collapsed": true
   },
   "outputs": [],
   "source": [
    "model = lr.fit(trainingData_s)"
   ]
  },
  {
   "cell_type": "code",
   "execution_count": 24,
   "metadata": {},
   "outputs": [
    {
     "data": {
      "text/plain": [
       "0.9913010033397337"
      ]
     },
     "execution_count": 24,
     "metadata": {},
     "output_type": "execute_result"
    }
   ],
   "source": [
    "model.summary.r2"
   ]
  },
  {
   "cell_type": "code",
   "execution_count": 25,
   "metadata": {},
   "outputs": [
    {
     "data": {
      "text/plain": [
       "1"
      ]
     },
     "execution_count": 25,
     "metadata": {},
     "output_type": "execute_result"
    }
   ],
   "source": [
    "model.summary.totalIterations"
   ]
  },
  {
   "cell_type": "code",
   "execution_count": 26,
   "metadata": {},
   "outputs": [
    {
     "data": {
      "text/plain": [
       "DenseVector([0.1605, 1.7233, -1.1164, 1.3816, 1.7622, 2.6071])"
      ]
     },
     "execution_count": 26,
     "metadata": {},
     "output_type": "execute_result"
    }
   ],
   "source": [
    "model.coefficients"
   ]
  },
  {
   "cell_type": "code",
   "execution_count": 27,
   "metadata": {},
   "outputs": [
    {
     "data": {
      "text/plain": [
       "-2.310963395156646"
      ]
     },
     "execution_count": 27,
     "metadata": {},
     "output_type": "execute_result"
    }
   ],
   "source": [
    "model.intercept"
   ]
  },
  {
   "cell_type": "markdown",
   "metadata": {},
   "source": [
    "## Make predictions"
   ]
  },
  {
   "cell_type": "code",
   "execution_count": 28,
   "metadata": {},
   "outputs": [
    {
     "data": {
      "text/html": [
       "<div>\n",
       "<style scoped>\n",
       "    .dataframe tbody tr th:only-of-type {\n",
       "        vertical-align: middle;\n",
       "    }\n",
       "\n",
       "    .dataframe tbody tr th {\n",
       "        vertical-align: top;\n",
       "    }\n",
       "\n",
       "    .dataframe thead th {\n",
       "        text-align: right;\n",
       "    }\n",
       "</style>\n",
       "<table border=\"1\" class=\"dataframe\">\n",
       "  <thead>\n",
       "    <tr style=\"text-align: right;\">\n",
       "      <th></th>\n",
       "      <th>features</th>\n",
       "      <th>label</th>\n",
       "      <th>scaledFeatures</th>\n",
       "      <th>prediction</th>\n",
       "    </tr>\n",
       "  </thead>\n",
       "  <tbody>\n",
       "    <tr>\n",
       "      <th>0</th>\n",
       "      <td>[0.005, 0.002, 5.0, 0.5, 100.0, 10.0]</td>\n",
       "      <td>0.794660</td>\n",
       "      <td>[-0.25000000000000006, 0.5, 0.25, 1.0, 1.0, 0....</td>\n",
       "      <td>1.612314</td>\n",
       "    </tr>\n",
       "    <tr>\n",
       "      <th>1</th>\n",
       "      <td>[0.0075, 0.002, 5.0, 0.5, 100.0, 10.0]</td>\n",
       "      <td>1.306685</td>\n",
       "      <td>[-0.12500000000000006, 0.5, 0.25, 1.0, 1.0, 0....</td>\n",
       "      <td>1.632383</td>\n",
       "    </tr>\n",
       "    <tr>\n",
       "      <th>2</th>\n",
       "      <td>[0.02, 0.0005, 5.0, 0.5, 100.0, 10.0]</td>\n",
       "      <td>0.233254</td>\n",
       "      <td>[0.5000000000000001, -0.25, 0.25, 1.0, 1.0, 0....</td>\n",
       "      <td>0.440254</td>\n",
       "    </tr>\n",
       "    <tr>\n",
       "      <th>3</th>\n",
       "      <td>[0.02, 0.002, 5.0, 0.0, 100.0, 10.0]</td>\n",
       "      <td>0.000000</td>\n",
       "      <td>[0.5000000000000001, 0.5, 0.25, -0.25, 1.0, 0....</td>\n",
       "      <td>0.005708</td>\n",
       "    </tr>\n",
       "    <tr>\n",
       "      <th>4</th>\n",
       "      <td>[0.02, 0.002, 5.0, 0.4, 100.0, 10.0]</td>\n",
       "      <td>1.416784</td>\n",
       "      <td>[0.5000000000000001, 0.5, 0.25, 0.750000000000...</td>\n",
       "      <td>1.387321</td>\n",
       "    </tr>\n",
       "    <tr>\n",
       "      <th>5</th>\n",
       "      <td>[0.02, 0.002, 5.0, 0.5, 40.0, 10.0]</td>\n",
       "      <td>0.317412</td>\n",
       "      <td>[0.5000000000000001, 0.5, 0.25, 1.0, 0.25, 0.0...</td>\n",
       "      <td>0.411042</td>\n",
       "    </tr>\n",
       "    <tr>\n",
       "      <th>6</th>\n",
       "      <td>[0.02, 0.002, 5.0, 0.5, 50.0, 10.0]</td>\n",
       "      <td>0.507779</td>\n",
       "      <td>[0.5000000000000001, 0.5, 0.25, 1.0, 0.375, 0....</td>\n",
       "      <td>0.631323</td>\n",
       "    </tr>\n",
       "    <tr>\n",
       "      <th>7</th>\n",
       "      <td>[0.02, 0.002, 5.0, 0.5, 70.0, 10.0]</td>\n",
       "      <td>0.971387</td>\n",
       "      <td>[0.5000000000000001, 0.5, 0.25, 1.0, 0.625, 0....</td>\n",
       "      <td>1.071883</td>\n",
       "    </tr>\n",
       "    <tr>\n",
       "      <th>8</th>\n",
       "      <td>[0.02, 0.002, 5.0, 0.5, 80.0, 10.0]</td>\n",
       "      <td>1.233964</td>\n",
       "      <td>[0.5000000000000001, 0.5, 0.25, 1.0, 0.75, 0.0...</td>\n",
       "      <td>1.292164</td>\n",
       "    </tr>\n",
       "    <tr>\n",
       "      <th>9</th>\n",
       "      <td>[0.02, 0.002, 5.0, 0.5, 100.0, 10.0]</td>\n",
       "      <td>1.789472</td>\n",
       "      <td>[0.5000000000000001, 0.5, 0.25, 1.0, 1.0, 0.09...</td>\n",
       "      <td>1.732724</td>\n",
       "    </tr>\n",
       "    <tr>\n",
       "      <th>10</th>\n",
       "      <td>[0.02, 0.002, 5.0, 0.5, 100.0, 10.0]</td>\n",
       "      <td>1.789472</td>\n",
       "      <td>[0.5000000000000001, 0.5, 0.25, 1.0, 1.0, 0.09...</td>\n",
       "      <td>1.732724</td>\n",
       "    </tr>\n",
       "    <tr>\n",
       "      <th>11</th>\n",
       "      <td>[0.02, 0.002, 5.0, 0.5, 100.0, 10.0]</td>\n",
       "      <td>1.789472</td>\n",
       "      <td>[0.5000000000000001, 0.5, 0.25, 1.0, 1.0, 0.09...</td>\n",
       "      <td>1.732724</td>\n",
       "    </tr>\n",
       "    <tr>\n",
       "      <th>12</th>\n",
       "      <td>[0.02, 0.002, 5.0, 0.5, 100.0, 20.0]</td>\n",
       "      <td>2.367297</td>\n",
       "      <td>[0.5000000000000001, 0.5, 0.25, 1.0, 1.0, 0.27...</td>\n",
       "      <td>2.206734</td>\n",
       "    </tr>\n",
       "    <tr>\n",
       "      <th>13</th>\n",
       "      <td>[0.02, 0.002, 5.0, 0.5, 100.0, 70.0]</td>\n",
       "      <td>4.323701</td>\n",
       "      <td>[0.5000000000000001, 0.5, 0.25, 1.0, 1.0, 1.18...</td>\n",
       "      <td>4.576781</td>\n",
       "    </tr>\n",
       "    <tr>\n",
       "      <th>14</th>\n",
       "      <td>[0.02, 0.002, 5.0, 0.6, 100.0, 10.0]</td>\n",
       "      <td>2.170602</td>\n",
       "      <td>[0.5000000000000001, 0.5, 0.25, 1.25, 1.0, 0.0...</td>\n",
       "      <td>2.078128</td>\n",
       "    </tr>\n",
       "    <tr>\n",
       "      <th>15</th>\n",
       "      <td>[0.02, 0.002, 6.0, 0.5, 100.0, 10.0]</td>\n",
       "      <td>1.460797</td>\n",
       "      <td>[0.5000000000000001, 0.5, 0.5, 1.0, 1.0, 0.090...</td>\n",
       "      <td>1.453631</td>\n",
       "    </tr>\n",
       "    <tr>\n",
       "      <th>16</th>\n",
       "      <td>[0.02, 0.002, 9.0, 0.5, 100.0, 10.0]</td>\n",
       "      <td>0.734811</td>\n",
       "      <td>[0.5000000000000001, 0.5, 1.25, 1.0, 1.0, 0.09...</td>\n",
       "      <td>0.616352</td>\n",
       "    </tr>\n",
       "  </tbody>\n",
       "</table>\n",
       "</div>"
      ],
      "text/plain": [
       "                                  features     label  \\\n",
       "0    [0.005, 0.002, 5.0, 0.5, 100.0, 10.0]  0.794660   \n",
       "1   [0.0075, 0.002, 5.0, 0.5, 100.0, 10.0]  1.306685   \n",
       "2    [0.02, 0.0005, 5.0, 0.5, 100.0, 10.0]  0.233254   \n",
       "3     [0.02, 0.002, 5.0, 0.0, 100.0, 10.0]  0.000000   \n",
       "4     [0.02, 0.002, 5.0, 0.4, 100.0, 10.0]  1.416784   \n",
       "5      [0.02, 0.002, 5.0, 0.5, 40.0, 10.0]  0.317412   \n",
       "6      [0.02, 0.002, 5.0, 0.5, 50.0, 10.0]  0.507779   \n",
       "7      [0.02, 0.002, 5.0, 0.5, 70.0, 10.0]  0.971387   \n",
       "8      [0.02, 0.002, 5.0, 0.5, 80.0, 10.0]  1.233964   \n",
       "9     [0.02, 0.002, 5.0, 0.5, 100.0, 10.0]  1.789472   \n",
       "10    [0.02, 0.002, 5.0, 0.5, 100.0, 10.0]  1.789472   \n",
       "11    [0.02, 0.002, 5.0, 0.5, 100.0, 10.0]  1.789472   \n",
       "12    [0.02, 0.002, 5.0, 0.5, 100.0, 20.0]  2.367297   \n",
       "13    [0.02, 0.002, 5.0, 0.5, 100.0, 70.0]  4.323701   \n",
       "14    [0.02, 0.002, 5.0, 0.6, 100.0, 10.0]  2.170602   \n",
       "15    [0.02, 0.002, 6.0, 0.5, 100.0, 10.0]  1.460797   \n",
       "16    [0.02, 0.002, 9.0, 0.5, 100.0, 10.0]  0.734811   \n",
       "\n",
       "                                       scaledFeatures  prediction  \n",
       "0   [-0.25000000000000006, 0.5, 0.25, 1.0, 1.0, 0....    1.612314  \n",
       "1   [-0.12500000000000006, 0.5, 0.25, 1.0, 1.0, 0....    1.632383  \n",
       "2   [0.5000000000000001, -0.25, 0.25, 1.0, 1.0, 0....    0.440254  \n",
       "3   [0.5000000000000001, 0.5, 0.25, -0.25, 1.0, 0....    0.005708  \n",
       "4   [0.5000000000000001, 0.5, 0.25, 0.750000000000...    1.387321  \n",
       "5   [0.5000000000000001, 0.5, 0.25, 1.0, 0.25, 0.0...    0.411042  \n",
       "6   [0.5000000000000001, 0.5, 0.25, 1.0, 0.375, 0....    0.631323  \n",
       "7   [0.5000000000000001, 0.5, 0.25, 1.0, 0.625, 0....    1.071883  \n",
       "8   [0.5000000000000001, 0.5, 0.25, 1.0, 0.75, 0.0...    1.292164  \n",
       "9   [0.5000000000000001, 0.5, 0.25, 1.0, 1.0, 0.09...    1.732724  \n",
       "10  [0.5000000000000001, 0.5, 0.25, 1.0, 1.0, 0.09...    1.732724  \n",
       "11  [0.5000000000000001, 0.5, 0.25, 1.0, 1.0, 0.09...    1.732724  \n",
       "12  [0.5000000000000001, 0.5, 0.25, 1.0, 1.0, 0.27...    2.206734  \n",
       "13  [0.5000000000000001, 0.5, 0.25, 1.0, 1.0, 1.18...    4.576781  \n",
       "14  [0.5000000000000001, 0.5, 0.25, 1.25, 1.0, 0.0...    2.078128  \n",
       "15  [0.5000000000000001, 0.5, 0.5, 1.0, 1.0, 0.090...    1.453631  \n",
       "16  [0.5000000000000001, 0.5, 1.25, 1.0, 1.0, 0.09...    0.616352  "
      ]
     },
     "execution_count": 28,
     "metadata": {},
     "output_type": "execute_result"
    }
   ],
   "source": [
    "predictions = model.transform(testData_s)\n",
    "#predictions.show(5)\n",
    "predictions.toPandas()"
   ]
  },
  {
   "cell_type": "markdown",
   "metadata": {},
   "source": [
    "## Evaluate the model"
   ]
  },
  {
   "cell_type": "code",
   "execution_count": 29,
   "metadata": {
    "collapsed": true
   },
   "outputs": [],
   "source": [
    "evaluator = RegressionEvaluator().setMetricName(\"r2\")\n",
    "    #.setLabelCol(\"label\")\\\n",
    "    #.setPredictionCol(\"prediction\")"
   ]
  },
  {
   "cell_type": "code",
   "execution_count": 30,
   "metadata": {},
   "outputs": [
    {
     "data": {
      "text/plain": [
       "0.9419021087204178"
      ]
     },
     "execution_count": 30,
     "metadata": {},
     "output_type": "execute_result"
    }
   ],
   "source": [
    "r2 = evaluator.evaluate(predictions)\n",
    "r2"
   ]
  },
  {
   "cell_type": "markdown",
   "metadata": {},
   "source": [
    "## Compare data with predictions"
   ]
  },
  {
   "cell_type": "code",
   "execution_count": 31,
   "metadata": {
    "collapsed": true
   },
   "outputs": [],
   "source": [
    "y = predictions.select(\"label\").collect()\n",
    "y = [y[row][0] for row in range(0,len(y))]"
   ]
  },
  {
   "cell_type": "code",
   "execution_count": 32,
   "metadata": {
    "collapsed": true
   },
   "outputs": [],
   "source": [
    "y_p = predictions.select(\"prediction\").collect()\n",
    "y_p = [y_p[row][0] for row in range(0,len(y_p))]"
   ]
  },
  {
   "cell_type": "code",
   "execution_count": 33,
   "metadata": {
    "collapsed": true
   },
   "outputs": [],
   "source": [
    "d = predictions.select(predictions.prediction-predictions.label).collect()\n",
    "d = [d[row][0] for row in range(0,len(d))]"
   ]
  },
  {
   "cell_type": "code",
   "execution_count": 34,
   "metadata": {},
   "outputs": [
    {
     "data": {
      "image/png": "[encoded data removed]",
      "text/plain": [
       "<matplotlib.figure.Figure at 0x118864bd0>"
      ]
     },
     "metadata": {},
     "output_type": "display_data"
    }
   ],
   "source": [
    "plt.scatter(y, d)\n",
    "plt.plot([0,3],[0,0],c='r')\n",
    "plt.xlim([0,3])\n",
    "plt.xlabel('$y$',fontsize=20)\n",
    "plt.ylabel('$y-y_{pred}$',fontsize=20)\n",
    "plt.show()"
   ]
  },
  {
   "cell_type": "markdown",
   "metadata": {},
   "source": [
    "## Save and load the model"
   ]
  },
  {
   "cell_type": "code",
   "execution_count": 35,
   "metadata": {
    "collapsed": true
   },
   "outputs": [],
   "source": [
    "model.save(\"LR-Model\")"
   ]
  },
  {
   "cell_type": "code",
   "execution_count": 36,
   "metadata": {
    "collapsed": true
   },
   "outputs": [],
   "source": [
    "model_2 = LinearRegressionModel.load(\"LR-Model\")"
   ]
  },
  {
   "cell_type": "code",
   "execution_count": 37,
   "metadata": {},
   "outputs": [
    {
     "data": {
      "text/html": [
       "<div>\n",
       "<style scoped>\n",
       "    .dataframe tbody tr th:only-of-type {\n",
       "        vertical-align: middle;\n",
       "    }\n",
       "\n",
       "    .dataframe tbody tr th {\n",
       "        vertical-align: top;\n",
       "    }\n",
       "\n",
       "    .dataframe thead th {\n",
       "        text-align: right;\n",
       "    }\n",
       "</style>\n",
       "<table border=\"1\" class=\"dataframe\">\n",
       "  <thead>\n",
       "    <tr style=\"text-align: right;\">\n",
       "      <th></th>\n",
       "      <th>features</th>\n",
       "      <th>label</th>\n",
       "      <th>scaledFeatures</th>\n",
       "      <th>prediction</th>\n",
       "    </tr>\n",
       "  </thead>\n",
       "  <tbody>\n",
       "    <tr>\n",
       "      <th>0</th>\n",
       "      <td>[0.005, 0.002, 5.0, 0.5, 100.0, 10.0]</td>\n",
       "      <td>0.794660</td>\n",
       "      <td>[-0.25000000000000006, 0.5, 0.25, 1.0, 1.0, 0....</td>\n",
       "      <td>1.612314</td>\n",
       "    </tr>\n",
       "    <tr>\n",
       "      <th>1</th>\n",
       "      <td>[0.0075, 0.002, 5.0, 0.5, 100.0, 10.0]</td>\n",
       "      <td>1.306685</td>\n",
       "      <td>[-0.12500000000000006, 0.5, 0.25, 1.0, 1.0, 0....</td>\n",
       "      <td>1.632383</td>\n",
       "    </tr>\n",
       "    <tr>\n",
       "      <th>2</th>\n",
       "      <td>[0.02, 0.0005, 5.0, 0.5, 100.0, 10.0]</td>\n",
       "      <td>0.233254</td>\n",
       "      <td>[0.5000000000000001, -0.25, 0.25, 1.0, 1.0, 0....</td>\n",
       "      <td>0.440254</td>\n",
       "    </tr>\n",
       "    <tr>\n",
       "      <th>3</th>\n",
       "      <td>[0.02, 0.002, 5.0, 0.0, 100.0, 10.0]</td>\n",
       "      <td>0.000000</td>\n",
       "      <td>[0.5000000000000001, 0.5, 0.25, -0.25, 1.0, 0....</td>\n",
       "      <td>0.005708</td>\n",
       "    </tr>\n",
       "    <tr>\n",
       "      <th>4</th>\n",
       "      <td>[0.02, 0.002, 5.0, 0.4, 100.0, 10.0]</td>\n",
       "      <td>1.416784</td>\n",
       "      <td>[0.5000000000000001, 0.5, 0.25, 0.750000000000...</td>\n",
       "      <td>1.387321</td>\n",
       "    </tr>\n",
       "    <tr>\n",
       "      <th>5</th>\n",
       "      <td>[0.02, 0.002, 5.0, 0.5, 40.0, 10.0]</td>\n",
       "      <td>0.317412</td>\n",
       "      <td>[0.5000000000000001, 0.5, 0.25, 1.0, 0.25, 0.0...</td>\n",
       "      <td>0.411042</td>\n",
       "    </tr>\n",
       "    <tr>\n",
       "      <th>6</th>\n",
       "      <td>[0.02, 0.002, 5.0, 0.5, 50.0, 10.0]</td>\n",
       "      <td>0.507779</td>\n",
       "      <td>[0.5000000000000001, 0.5, 0.25, 1.0, 0.375, 0....</td>\n",
       "      <td>0.631323</td>\n",
       "    </tr>\n",
       "    <tr>\n",
       "      <th>7</th>\n",
       "      <td>[0.02, 0.002, 5.0, 0.5, 70.0, 10.0]</td>\n",
       "      <td>0.971387</td>\n",
       "      <td>[0.5000000000000001, 0.5, 0.25, 1.0, 0.625, 0....</td>\n",
       "      <td>1.071883</td>\n",
       "    </tr>\n",
       "    <tr>\n",
       "      <th>8</th>\n",
       "      <td>[0.02, 0.002, 5.0, 0.5, 80.0, 10.0]</td>\n",
       "      <td>1.233964</td>\n",
       "      <td>[0.5000000000000001, 0.5, 0.25, 1.0, 0.75, 0.0...</td>\n",
       "      <td>1.292164</td>\n",
       "    </tr>\n",
       "    <tr>\n",
       "      <th>9</th>\n",
       "      <td>[0.02, 0.002, 5.0, 0.5, 100.0, 10.0]</td>\n",
       "      <td>1.789472</td>\n",
       "      <td>[0.5000000000000001, 0.5, 0.25, 1.0, 1.0, 0.09...</td>\n",
       "      <td>1.732724</td>\n",
       "    </tr>\n",
       "    <tr>\n",
       "      <th>10</th>\n",
       "      <td>[0.02, 0.002, 5.0, 0.5, 100.0, 10.0]</td>\n",
       "      <td>1.789472</td>\n",
       "      <td>[0.5000000000000001, 0.5, 0.25, 1.0, 1.0, 0.09...</td>\n",
       "      <td>1.732724</td>\n",
       "    </tr>\n",
       "    <tr>\n",
       "      <th>11</th>\n",
       "      <td>[0.02, 0.002, 5.0, 0.5, 100.0, 10.0]</td>\n",
       "      <td>1.789472</td>\n",
       "      <td>[0.5000000000000001, 0.5, 0.25, 1.0, 1.0, 0.09...</td>\n",
       "      <td>1.732724</td>\n",
       "    </tr>\n",
       "    <tr>\n",
       "      <th>12</th>\n",
       "      <td>[0.02, 0.002, 5.0, 0.5, 100.0, 20.0]</td>\n",
       "      <td>2.367297</td>\n",
       "      <td>[0.5000000000000001, 0.5, 0.25, 1.0, 1.0, 0.27...</td>\n",
       "      <td>2.206734</td>\n",
       "    </tr>\n",
       "    <tr>\n",
       "      <th>13</th>\n",
       "      <td>[0.02, 0.002, 5.0, 0.5, 100.0, 70.0]</td>\n",
       "      <td>4.323701</td>\n",
       "      <td>[0.5000000000000001, 0.5, 0.25, 1.0, 1.0, 1.18...</td>\n",
       "      <td>4.576781</td>\n",
       "    </tr>\n",
       "    <tr>\n",
       "      <th>14</th>\n",
       "      <td>[0.02, 0.002, 5.0, 0.6, 100.0, 10.0]</td>\n",
       "      <td>2.170602</td>\n",
       "      <td>[0.5000000000000001, 0.5, 0.25, 1.25, 1.0, 0.0...</td>\n",
       "      <td>2.078128</td>\n",
       "    </tr>\n",
       "    <tr>\n",
       "      <th>15</th>\n",
       "      <td>[0.02, 0.002, 6.0, 0.5, 100.0, 10.0]</td>\n",
       "      <td>1.460797</td>\n",
       "      <td>[0.5000000000000001, 0.5, 0.5, 1.0, 1.0, 0.090...</td>\n",
       "      <td>1.453631</td>\n",
       "    </tr>\n",
       "    <tr>\n",
       "      <th>16</th>\n",
       "      <td>[0.02, 0.002, 9.0, 0.5, 100.0, 10.0]</td>\n",
       "      <td>0.734811</td>\n",
       "      <td>[0.5000000000000001, 0.5, 1.25, 1.0, 1.0, 0.09...</td>\n",
       "      <td>0.616352</td>\n",
       "    </tr>\n",
       "  </tbody>\n",
       "</table>\n",
       "</div>"
      ],
      "text/plain": [
       "                                  features     label  \\\n",
       "0    [0.005, 0.002, 5.0, 0.5, 100.0, 10.0]  0.794660   \n",
       "1   [0.0075, 0.002, 5.0, 0.5, 100.0, 10.0]  1.306685   \n",
       "2    [0.02, 0.0005, 5.0, 0.5, 100.0, 10.0]  0.233254   \n",
       "3     [0.02, 0.002, 5.0, 0.0, 100.0, 10.0]  0.000000   \n",
       "4     [0.02, 0.002, 5.0, 0.4, 100.0, 10.0]  1.416784   \n",
       "5      [0.02, 0.002, 5.0, 0.5, 40.0, 10.0]  0.317412   \n",
       "6      [0.02, 0.002, 5.0, 0.5, 50.0, 10.0]  0.507779   \n",
       "7      [0.02, 0.002, 5.0, 0.5, 70.0, 10.0]  0.971387   \n",
       "8      [0.02, 0.002, 5.0, 0.5, 80.0, 10.0]  1.233964   \n",
       "9     [0.02, 0.002, 5.0, 0.5, 100.0, 10.0]  1.789472   \n",
       "10    [0.02, 0.002, 5.0, 0.5, 100.0, 10.0]  1.789472   \n",
       "11    [0.02, 0.002, 5.0, 0.5, 100.0, 10.0]  1.789472   \n",
       "12    [0.02, 0.002, 5.0, 0.5, 100.0, 20.0]  2.367297   \n",
       "13    [0.02, 0.002, 5.0, 0.5, 100.0, 70.0]  4.323701   \n",
       "14    [0.02, 0.002, 5.0, 0.6, 100.0, 10.0]  2.170602   \n",
       "15    [0.02, 0.002, 6.0, 0.5, 100.0, 10.0]  1.460797   \n",
       "16    [0.02, 0.002, 9.0, 0.5, 100.0, 10.0]  0.734811   \n",
       "\n",
       "                                       scaledFeatures  prediction  \n",
       "0   [-0.25000000000000006, 0.5, 0.25, 1.0, 1.0, 0....    1.612314  \n",
       "1   [-0.12500000000000006, 0.5, 0.25, 1.0, 1.0, 0....    1.632383  \n",
       "2   [0.5000000000000001, -0.25, 0.25, 1.0, 1.0, 0....    0.440254  \n",
       "3   [0.5000000000000001, 0.5, 0.25, -0.25, 1.0, 0....    0.005708  \n",
       "4   [0.5000000000000001, 0.5, 0.25, 0.750000000000...    1.387321  \n",
       "5   [0.5000000000000001, 0.5, 0.25, 1.0, 0.25, 0.0...    0.411042  \n",
       "6   [0.5000000000000001, 0.5, 0.25, 1.0, 0.375, 0....    0.631323  \n",
       "7   [0.5000000000000001, 0.5, 0.25, 1.0, 0.625, 0....    1.071883  \n",
       "8   [0.5000000000000001, 0.5, 0.25, 1.0, 0.75, 0.0...    1.292164  \n",
       "9   [0.5000000000000001, 0.5, 0.25, 1.0, 1.0, 0.09...    1.732724  \n",
       "10  [0.5000000000000001, 0.5, 0.25, 1.0, 1.0, 0.09...    1.732724  \n",
       "11  [0.5000000000000001, 0.5, 0.25, 1.0, 1.0, 0.09...    1.732724  \n",
       "12  [0.5000000000000001, 0.5, 0.25, 1.0, 1.0, 0.27...    2.206734  \n",
       "13  [0.5000000000000001, 0.5, 0.25, 1.0, 1.0, 1.18...    4.576781  \n",
       "14  [0.5000000000000001, 0.5, 0.25, 1.25, 1.0, 0.0...    2.078128  \n",
       "15  [0.5000000000000001, 0.5, 0.5, 1.0, 1.0, 0.090...    1.453631  \n",
       "16  [0.5000000000000001, 0.5, 1.25, 1.0, 1.0, 0.09...    0.616352  "
      ]
     },
     "execution_count": 37,
     "metadata": {},
     "output_type": "execute_result"
    }
   ],
   "source": [
    "predictions_2 = model_2.transform(testData_s)\n",
    "#predictions_2.show(5)\n",
    "predictions_2.toPandas()"
   ]
  }
 ],
 "metadata": {
  "kernelspec": {
   "display_name": "Python 2",
   "language": "python",
   "name": "python2"
  },
  "language_info": {
   "codemirror_mode": {
    "name": "ipython",
    "version": 2
   },
   "file_extension": ".py",
   "mimetype": "text/x-python",
   "name": "python",
   "nbconvert_exporter": "python",
   "pygments_lexer": "ipython2",
   "version": "2.7.10"
  }
 },
 "nbformat": 4,
 "nbformat_minor": 2
}
