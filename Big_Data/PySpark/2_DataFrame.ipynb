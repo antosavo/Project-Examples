{
 "cells": [
  {
   "cell_type": "code",
   "execution_count": 1,
   "metadata": {
    "collapsed": true
   },
   "outputs": [],
   "source": [
    "import findspark\n",
    "findspark.init()\n",
    "import pyspark\n",
    "from pyspark.sql.functions import *\n",
    "from pyspark.sql import SparkSession\n",
    "from pyspark import SparkContext, SparkConf\n",
    "import numpy as np\n",
    "import pandas as pd"
   ]
  },
  {
   "cell_type": "code",
   "execution_count": 2,
   "metadata": {
    "collapsed": true
   },
   "outputs": [],
   "source": [
    "#conf = SparkConf().set(\"spark.cores.max\", \"4\")\n",
    "conf = SparkConf().setMaster(\"local[*]\")\n",
    "sc = SparkContext(conf=conf)"
   ]
  },
  {
   "cell_type": "code",
   "execution_count": 3,
   "metadata": {},
   "outputs": [],
   "source": [
    "spark = SparkSession\\\n",
    "    .builder\\\n",
    "    .appName(\"MyApp\")\\\n",
    "    .getOrCreate()\n",
    "    #.config(\"spark.cores.max\", \"4\")\\"
   ]
  },
  {
   "cell_type": "markdown",
   "metadata": {},
   "source": [
    "## Read file as text"
   ]
  },
  {
   "cell_type": "code",
   "execution_count": 4,
   "metadata": {
    "collapsed": true
   },
   "outputs": [],
   "source": [
    "data = sc.textFile(\"Datasets/Data-1.csv\", 3) #3 partitions"
   ]
  },
  {
   "cell_type": "code",
   "execution_count": 5,
   "metadata": {},
   "outputs": [
    {
     "data": {
      "text/plain": [
       "3"
      ]
     },
     "execution_count": 5,
     "metadata": {},
     "output_type": "execute_result"
    }
   ],
   "source": [
    "data.getNumPartitions()"
   ]
  },
  {
   "cell_type": "code",
   "execution_count": 6,
   "metadata": {},
   "outputs": [
    {
     "data": {
      "text/plain": [
       "1600"
      ]
     },
     "execution_count": 6,
     "metadata": {},
     "output_type": "execute_result"
    }
   ],
   "source": [
    "data.count()"
   ]
  },
  {
   "cell_type": "code",
   "execution_count": 7,
   "metadata": {},
   "outputs": [
    {
     "data": {
      "text/plain": [
       "[u'x_1;x_2;x_3;x_4;x_5;x_6;x_7;x_8;x_9;x_10;x_11;y',\n",
       " u'7.4;0.7;0;1.9;0.076;11;34;0.9978;3.51;0.56;9.4;5',\n",
       " u'7.8;0.88;0;2.6;0.098;25;67;0.9968;3.2;0.68;9.8;5',\n",
       " u'7.8;0.76;0.04;2.3;0.092;15;54;0.997;3.26;0.65;9.8;5',\n",
       " u'11.2;0.28;0.56;1.9;0.075;17;60;0.998;3.16;0.58;9.8;6',\n",
       " u'7.4;0.7;0;1.9;0.076;11;34;0.9978;3.51;0.56;9.4;5',\n",
       " u'7.4;0.66;0;1.8;0.075;13;40;0.9978;3.51;0.56;9.4;5',\n",
       " u'7.9;0.6;0.06;1.6;0.069;15;59;0.9964;3.3;0.46;9.4;5',\n",
       " u'7.3;0.65;0;1.2;0.065;15;21;0.9946;3.39;0.47;10;7',\n",
       " u'7.8;0.58;0.02;2;0.073;9;18;0.9968;3.36;0.57;9.5;7']"
      ]
     },
     "execution_count": 7,
     "metadata": {},
     "output_type": "execute_result"
    }
   ],
   "source": [
    "data.take(10)"
   ]
  },
  {
   "cell_type": "code",
   "execution_count": 8,
   "metadata": {
    "collapsed": true
   },
   "outputs": [],
   "source": [
    "data.saveAsTextFile(\"saved-data\")"
   ]
  },
  {
   "cell_type": "code",
   "execution_count": 9,
   "metadata": {
    "collapsed": true
   },
   "outputs": [],
   "source": [
    "data2 = sc.textFile(\"saved-data/part-*\")"
   ]
  },
  {
   "cell_type": "code",
   "execution_count": 10,
   "metadata": {},
   "outputs": [
    {
     "data": {
      "text/plain": [
       "1600"
      ]
     },
     "execution_count": 10,
     "metadata": {},
     "output_type": "execute_result"
    }
   ],
   "source": [
    "data2.count()"
   ]
  },
  {
   "cell_type": "markdown",
   "metadata": {},
   "source": [
    "## Load dataset 1"
   ]
  },
  {
   "cell_type": "code",
   "execution_count": 11,
   "metadata": {
    "collapsed": true
   },
   "outputs": [],
   "source": [
    "df1 = spark.read\\\n",
    "    .format(\"csv\")\\\n",
    "    .option(\"header\", \"true\")\\\n",
    "    .option(\"inferschema\", \"true\")\\\n",
    "    .option(\"delimiter\",\";\")\\\n",
    "    .load(\"Datasets/Data-1.csv\").repartition(3)"
   ]
  },
  {
   "cell_type": "code",
   "execution_count": 12,
   "metadata": {},
   "outputs": [
    {
     "data": {
      "text/plain": [
       "3"
      ]
     },
     "execution_count": 12,
     "metadata": {},
     "output_type": "execute_result"
    }
   ],
   "source": [
    "df1.rdd.getNumPartitions()"
   ]
  },
  {
   "cell_type": "markdown",
   "metadata": {},
   "source": [
    "## Explore dataset 1"
   ]
  },
  {
   "cell_type": "code",
   "execution_count": 13,
   "metadata": {},
   "outputs": [
    {
     "name": "stdout",
     "output_type": "stream",
     "text": [
      "+---+-----+----+---+-----+----+----+-------+----+----+----+---+\n",
      "|x_1|  x_2| x_3|x_4|  x_5| x_6| x_7|    x_8| x_9|x_10|x_11|  y|\n",
      "+---+-----+----+---+-----+----+----+-------+----+----+----+---+\n",
      "|7.3| 0.98|0.05|2.1|0.061|20.0|49.0|0.99705|3.31|0.55| 9.7|  3|\n",
      "|8.2| 0.31| 0.4|2.2|0.058| 6.0|10.0|0.99536|3.31|0.68|11.2|  7|\n",
      "|6.8| 0.59| 0.1|1.7|0.063|34.0|53.0| 0.9958|3.41|0.67| 9.7|  5|\n",
      "|8.6|0.685| 0.1|1.6|0.092| 3.0|12.0|0.99745|3.31|0.65|9.55|  6|\n",
      "|9.8|  0.5|0.49|2.6| 0.25| 5.0|20.0|  0.999|3.31|0.79|10.7|  6|\n",
      "+---+-----+----+---+-----+----+----+-------+----+----+----+---+\n",
      "only showing top 5 rows\n",
      "\n"
     ]
    }
   ],
   "source": [
    "df1.show(5)"
   ]
  },
  {
   "cell_type": "code",
   "execution_count": 14,
   "metadata": {},
   "outputs": [
    {
     "name": "stdout",
     "output_type": "stream",
     "text": [
      "root\n",
      " |-- x_1: double (nullable = true)\n",
      " |-- x_2: double (nullable = true)\n",
      " |-- x_3: double (nullable = true)\n",
      " |-- x_4: double (nullable = true)\n",
      " |-- x_5: double (nullable = true)\n",
      " |-- x_6: double (nullable = true)\n",
      " |-- x_7: double (nullable = true)\n",
      " |-- x_8: double (nullable = true)\n",
      " |-- x_9: double (nullable = true)\n",
      " |-- x_10: double (nullable = true)\n",
      " |-- x_11: double (nullable = true)\n",
      " |-- y: integer (nullable = true)\n",
      "\n"
     ]
    }
   ],
   "source": [
    "df1.printSchema()"
   ]
  },
  {
   "cell_type": "code",
   "execution_count": 15,
   "metadata": {},
   "outputs": [
    {
     "data": {
      "text/plain": [
       "['x_1',\n",
       " 'x_2',\n",
       " 'x_3',\n",
       " 'x_4',\n",
       " 'x_5',\n",
       " 'x_6',\n",
       " 'x_7',\n",
       " 'x_8',\n",
       " 'x_9',\n",
       " 'x_10',\n",
       " 'x_11',\n",
       " 'y']"
      ]
     },
     "execution_count": 15,
     "metadata": {},
     "output_type": "execute_result"
    }
   ],
   "source": [
    "df1.columns"
   ]
  },
  {
   "cell_type": "code",
   "execution_count": 16,
   "metadata": {},
   "outputs": [
    {
     "data": {
      "text/plain": [
       "12"
      ]
     },
     "execution_count": 16,
     "metadata": {},
     "output_type": "execute_result"
    }
   ],
   "source": [
    "len(df1.columns)"
   ]
  },
  {
   "cell_type": "code",
   "execution_count": 17,
   "metadata": {},
   "outputs": [
    {
     "data": {
      "text/plain": [
       "1599"
      ]
     },
     "execution_count": 17,
     "metadata": {},
     "output_type": "execute_result"
    }
   ],
   "source": [
    "df1.count()"
   ]
  },
  {
   "cell_type": "code",
   "execution_count": 18,
   "metadata": {},
   "outputs": [
    {
     "name": "stdout",
     "output_type": "stream",
     "text": [
      "+-------+------------------+\n",
      "|summary|                 y|\n",
      "+-------+------------------+\n",
      "|  count|              1599|\n",
      "|   mean|5.6360225140712945|\n",
      "| stddev|0.8075694397347051|\n",
      "|    min|                 3|\n",
      "|    max|                 8|\n",
      "+-------+------------------+\n",
      "\n"
     ]
    }
   ],
   "source": [
    "df1.describe(\"y\").show()"
   ]
  },
  {
   "cell_type": "code",
   "execution_count": 19,
   "metadata": {},
   "outputs": [
    {
     "name": "stdout",
     "output_type": "stream",
     "text": [
      "+-------+------------------+-------------------+\n",
      "|summary|               x_1|                x_2|\n",
      "+-------+------------------+-------------------+\n",
      "|  count|              1599|               1599|\n",
      "|   mean| 8.319637273295813| 0.5278205128205123|\n",
      "| stddev|1.7410963181276953|0.17905970415353545|\n",
      "|    min|               4.6|               0.12|\n",
      "|    max|              15.9|               1.58|\n",
      "+-------+------------------+-------------------+\n",
      "\n"
     ]
    }
   ],
   "source": [
    "df1.describe(\"x_1\",\"x_2\").show()"
   ]
  },
  {
   "cell_type": "code",
   "execution_count": 20,
   "metadata": {},
   "outputs": [
    {
     "name": "stdout",
     "output_type": "stream",
     "text": [
      "+------------------+------+------+\n",
      "|            avg(y)|max(y)|min(y)|\n",
      "+------------------+------+------+\n",
      "|5.6360225140712945|     8|     3|\n",
      "+------------------+------+------+\n",
      "\n"
     ]
    }
   ],
   "source": [
    "df1.select(mean(\"y\"),max(\"y\"),min(\"y\")).show()"
   ]
  },
  {
   "cell_type": "code",
   "execution_count": 21,
   "metadata": {},
   "outputs": [
    {
     "name": "stdout",
     "output_type": "stream",
     "text": [
      "+---+\n",
      "|  y|\n",
      "+---+\n",
      "|  3|\n",
      "|  4|\n",
      "|  5|\n",
      "|  6|\n",
      "|  7|\n",
      "|  8|\n",
      "+---+\n",
      "\n"
     ]
    }
   ],
   "source": [
    "df1.select(\"y\").distinct().sort(\"y\").show()"
   ]
  },
  {
   "cell_type": "code",
   "execution_count": 22,
   "metadata": {},
   "outputs": [
    {
     "name": "stdout",
     "output_type": "stream",
     "text": [
      "+---+-----+\n",
      "|  y|count|\n",
      "+---+-----+\n",
      "|  3|   10|\n",
      "|  4|   53|\n",
      "|  5|  681|\n",
      "|  6|  638|\n",
      "|  7|  199|\n",
      "|  8|   18|\n",
      "+---+-----+\n",
      "\n"
     ]
    }
   ],
   "source": [
    "df1.groupBy(\"y\").count().sort(\"y\").show()"
   ]
  },
  {
   "cell_type": "code",
   "execution_count": 23,
   "metadata": {},
   "outputs": [
    {
     "data": {
      "text/plain": [
       "0.12405164911322429"
      ]
     },
     "execution_count": 23,
     "metadata": {},
     "output_type": "execute_result"
    }
   ],
   "source": [
    "df1.stat.corr(\"y\",\"x_1\")"
   ]
  },
  {
   "cell_type": "code",
   "execution_count": 24,
   "metadata": {},
   "outputs": [
    {
     "data": {
      "text/plain": [
       "[['x_1', 0.12405164911322432],\n",
       " ['x_2', -0.3905577802640072],\n",
       " ['x_3', 0.22637251431804142],\n",
       " ['x_4', 0.013731637340066192],\n",
       " ['x_5', -0.12890655993005248],\n",
       " ['x_6', -0.050656057244276104],\n",
       " ['x_7', -0.18510028892653782],\n",
       " ['x_8', -0.1749192277833488],\n",
       " ['x_9', -0.05773139120538207],\n",
       " ['x_10', 0.25139707906926134],\n",
       " ['x_11', 0.4761663240011359],\n",
       " ['y', 1.0]]"
      ]
     },
     "execution_count": 24,
     "metadata": {},
     "output_type": "execute_result"
    }
   ],
   "source": [
    "#L = [[cn,df1.stat.corr(\"quality\",cn)] for cn in df1.columns]\n",
    "L =[]\n",
    "for cn in df1.columns:\n",
    "    L.append([cn,df1.stat.corr(\"y\",cn)])\n",
    "L"
   ]
  },
  {
   "cell_type": "code",
   "execution_count": 25,
   "metadata": {
    "collapsed": true
   },
   "outputs": [],
   "source": [
    "df_corr = spark.createDataFrame(L).toDF(\"colname\",\"correlation\")"
   ]
  },
  {
   "cell_type": "code",
   "execution_count": 26,
   "metadata": {},
   "outputs": [
    {
     "name": "stdout",
     "output_type": "stream",
     "text": [
      "+-------+--------------------+\n",
      "|colname|         correlation|\n",
      "+-------+--------------------+\n",
      "|    x_2| -0.3905577802640072|\n",
      "|    x_7|-0.18510028892653782|\n",
      "|    x_8| -0.1749192277833488|\n",
      "|    x_5|-0.12890655993005248|\n",
      "|    x_9|-0.05773139120538207|\n",
      "|    x_6|-0.05065605724427...|\n",
      "|    x_4|0.013731637340066192|\n",
      "|    x_1| 0.12405164911322432|\n",
      "|    x_3| 0.22637251431804142|\n",
      "|   x_10| 0.25139707906926134|\n",
      "|   x_11|  0.4761663240011359|\n",
      "|      y|                 1.0|\n",
      "+-------+--------------------+\n",
      "\n"
     ]
    }
   ],
   "source": [
    "df_corr.sort(\"correlation\").show()"
   ]
  },
  {
   "cell_type": "code",
   "execution_count": 27,
   "metadata": {},
   "outputs": [
    {
     "name": "stdout",
     "output_type": "stream",
     "text": [
      "+-------+--------------------+\n",
      "|colname|    abs(correlation)|\n",
      "+-------+--------------------+\n",
      "|      y|                 1.0|\n",
      "|   x_11|  0.4761663240011359|\n",
      "|    x_2|  0.3905577802640072|\n",
      "|   x_10| 0.25139707906926134|\n",
      "|    x_3| 0.22637251431804142|\n",
      "|    x_7| 0.18510028892653782|\n",
      "|    x_8|  0.1749192277833488|\n",
      "|    x_5| 0.12890655993005248|\n",
      "|    x_1| 0.12405164911322432|\n",
      "|    x_9| 0.05773139120538207|\n",
      "|    x_6|0.050656057244276104|\n",
      "|    x_4|0.013731637340066192|\n",
      "+-------+--------------------+\n",
      "\n"
     ]
    }
   ],
   "source": [
    "df_corr.select(col(\"colname\"),abs(col(\"correlation\")))\\\n",
    "    .sort(col(\"abs(correlation)\").desc()).show()"
   ]
  },
  {
   "cell_type": "markdown",
   "metadata": {},
   "source": [
    "## Load dataset 2"
   ]
  },
  {
   "cell_type": "code",
   "execution_count": 28,
   "metadata": {
    "collapsed": true
   },
   "outputs": [],
   "source": [
    "df2 = spark.read\\\n",
    "    .format(\"csv\")\\\n",
    "    .option(\"header\", \"true\")\\\n",
    "    .option(\"inferschema\", \"true\")\\\n",
    "    .option(\"delimiter\",\";\")\\\n",
    "    .load(\"Datasets/Data-2.csv\")"
   ]
  },
  {
   "cell_type": "markdown",
   "metadata": {},
   "source": [
    "## Explore dataset 2"
   ]
  },
  {
   "cell_type": "code",
   "execution_count": 29,
   "metadata": {},
   "outputs": [
    {
     "name": "stdout",
     "output_type": "stream",
     "text": [
      "+---+----+----+----+-----+----+-----+------+----+----+----+---+\n",
      "|x_1| x_2| x_3| x_4|  x_5| x_6|  x_7|   x_8| x_9|x_10|x_11|  y|\n",
      "+---+----+----+----+-----+----+-----+------+----+----+----+---+\n",
      "|7.0|0.27|0.36|20.7|0.045|45.0|170.0| 1.001| 3.0|0.45| 8.8|  6|\n",
      "|6.3| 0.3|0.34| 1.6|0.049|14.0|132.0| 0.994| 3.3|0.49| 9.5|  6|\n",
      "|8.1|0.28| 0.4| 6.9| 0.05|30.0| 97.0|0.9951|3.26|0.44|10.1|  6|\n",
      "|7.2|0.23|0.32| 8.5|0.058|47.0|186.0|0.9956|3.19| 0.4| 9.9|  6|\n",
      "|7.2|0.23|0.32| 8.5|0.058|47.0|186.0|0.9956|3.19| 0.4| 9.9|  6|\n",
      "+---+----+----+----+-----+----+-----+------+----+----+----+---+\n",
      "only showing top 5 rows\n",
      "\n"
     ]
    }
   ],
   "source": [
    "df2.show(5)"
   ]
  },
  {
   "cell_type": "code",
   "execution_count": 30,
   "metadata": {},
   "outputs": [
    {
     "name": "stdout",
     "output_type": "stream",
     "text": [
      "root\n",
      " |-- x_1: double (nullable = true)\n",
      " |-- x_2: double (nullable = true)\n",
      " |-- x_3: double (nullable = true)\n",
      " |-- x_4: double (nullable = true)\n",
      " |-- x_5: double (nullable = true)\n",
      " |-- x_6: double (nullable = true)\n",
      " |-- x_7: double (nullable = true)\n",
      " |-- x_8: double (nullable = true)\n",
      " |-- x_9: double (nullable = true)\n",
      " |-- x_10: double (nullable = true)\n",
      " |-- x_11: double (nullable = true)\n",
      " |-- y: integer (nullable = true)\n",
      "\n"
     ]
    }
   ],
   "source": [
    "df2.printSchema()"
   ]
  },
  {
   "cell_type": "code",
   "execution_count": 31,
   "metadata": {},
   "outputs": [
    {
     "data": {
      "text/plain": [
       "12"
      ]
     },
     "execution_count": 31,
     "metadata": {},
     "output_type": "execute_result"
    }
   ],
   "source": [
    "len(df2.columns)"
   ]
  },
  {
   "cell_type": "code",
   "execution_count": 32,
   "metadata": {},
   "outputs": [
    {
     "data": {
      "text/plain": [
       "4898"
      ]
     },
     "execution_count": 32,
     "metadata": {},
     "output_type": "execute_result"
    }
   ],
   "source": [
    "df2.count()"
   ]
  },
  {
   "cell_type": "code",
   "execution_count": 33,
   "metadata": {},
   "outputs": [
    {
     "name": "stdout",
     "output_type": "stream",
     "text": [
      "+---+-----+\n",
      "|  y|count|\n",
      "+---+-----+\n",
      "|  3|   20|\n",
      "|  4|  163|\n",
      "|  5| 1457|\n",
      "|  6| 2198|\n",
      "|  7|  880|\n",
      "|  8|  175|\n",
      "|  9|    5|\n",
      "+---+-----+\n",
      "\n"
     ]
    }
   ],
   "source": [
    "df2.groupBy(\"y\").count().sort(\"y\").show()"
   ]
  },
  {
   "cell_type": "markdown",
   "metadata": {},
   "source": [
    "## Concatenate the two datasets"
   ]
  },
  {
   "cell_type": "code",
   "execution_count": 34,
   "metadata": {},
   "outputs": [
    {
     "name": "stdout",
     "output_type": "stream",
     "text": [
      "+---+-----+----+---+-----+----+-----+-------+----+----+----+---+\n",
      "|x_1|  x_2| x_3|x_4|  x_5| x_6|  x_7|    x_8| x_9|x_10|x_11|  y|\n",
      "+---+-----+----+---+-----+----+-----+-------+----+----+----+---+\n",
      "|7.3| 0.98|0.05|2.1|0.061|20.0| 49.0|0.99705|3.31|0.55| 9.7|  3|\n",
      "|8.2| 0.31| 0.4|2.2|0.058| 6.0| 10.0|0.99536|3.31|0.68|11.2|  7|\n",
      "|6.8| 0.59| 0.1|1.7|0.063|34.0| 53.0| 0.9958|3.41|0.67| 9.7|  5|\n",
      "|8.6|0.685| 0.1|1.6|0.092| 3.0| 12.0|0.99745|3.31|0.65|9.55|  6|\n",
      "|9.8|  0.5|0.49|2.6| 0.25| 5.0| 20.0|  0.999|3.31|0.79|10.7|  6|\n",
      "|6.8| 0.65|0.02|2.1|0.078| 8.0| 15.0|0.99498|3.35|0.62|10.4|  6|\n",
      "|9.2| 0.43|0.49|2.4|0.086|23.0|116.0| 0.9976|3.23|0.64| 9.5|  5|\n",
      "|7.2|  0.6|0.04|2.5|0.076|18.0| 88.0|0.99745|3.53|0.55| 9.5|  5|\n",
      "|7.9| 0.69|0.21|2.1| 0.08|33.0|141.0| 0.9962|3.25|0.51| 9.9|  5|\n",
      "|9.8| 0.66|0.39|3.2|0.083|21.0| 59.0| 0.9989|3.37|0.71|11.5|  7|\n",
      "+---+-----+----+---+-----+----+-----+-------+----+----+----+---+\n",
      "only showing top 10 rows\n",
      "\n"
     ]
    }
   ],
   "source": [
    "df = df1.unionAll(df2)\n",
    "df.show(10)"
   ]
  },
  {
   "cell_type": "code",
   "execution_count": 35,
   "metadata": {},
   "outputs": [
    {
     "data": {
      "text/plain": [
       "6497"
      ]
     },
     "execution_count": 35,
     "metadata": {},
     "output_type": "execute_result"
    }
   ],
   "source": [
    "df.count()"
   ]
  },
  {
   "cell_type": "markdown",
   "metadata": {},
   "source": [
    "## Repartition and save the new dataset"
   ]
  },
  {
   "cell_type": "code",
   "execution_count": 36,
   "metadata": {
    "collapsed": true
   },
   "outputs": [],
   "source": [
    "df.repartition(1).write\\\n",
    "    .format(\"csv\")\\\n",
    "    .option(\"header\", \"true\")\\\n",
    "    .mode(\"overwrite\")\\\n",
    "    .save(\"concatenated-data\")"
   ]
  },
  {
   "cell_type": "markdown",
   "metadata": {},
   "source": [
    "## Merge the two datasets"
   ]
  },
  {
   "cell_type": "code",
   "execution_count": 37,
   "metadata": {
    "collapsed": true
   },
   "outputs": [],
   "source": [
    "Columns_1 = []\n",
    "for name in df1.columns:\n",
    "    name_1 = name + \"_A\"\n",
    "    Columns_1.append(name_1)"
   ]
  },
  {
   "cell_type": "code",
   "execution_count": 38,
   "metadata": {},
   "outputs": [
    {
     "data": {
      "text/plain": [
       "['x_1_A',\n",
       " 'x_2_A',\n",
       " 'x_3_A',\n",
       " 'x_4_A',\n",
       " 'x_5_A',\n",
       " 'x_6_A',\n",
       " 'x_7_A',\n",
       " 'x_8_A',\n",
       " 'x_9_A',\n",
       " 'x_10_A',\n",
       " 'x_11_A',\n",
       " 'y_A']"
      ]
     },
     "execution_count": 38,
     "metadata": {},
     "output_type": "execute_result"
    }
   ],
   "source": [
    "Columns_1"
   ]
  },
  {
   "cell_type": "code",
   "execution_count": 39,
   "metadata": {
    "collapsed": true,
    "scrolled": true
   },
   "outputs": [],
   "source": [
    "F1 = df1.toDF(*Columns_1)"
   ]
  },
  {
   "cell_type": "code",
   "execution_count": 40,
   "metadata": {
    "collapsed": true
   },
   "outputs": [],
   "source": [
    "Columns_2 = []\n",
    "for name in df2.columns:\n",
    "    name_2 = name + \"_B\"\n",
    "    Columns_2.append(name_2)"
   ]
  },
  {
   "cell_type": "code",
   "execution_count": 41,
   "metadata": {},
   "outputs": [
    {
     "data": {
      "text/plain": [
       "['x_1_B',\n",
       " 'x_2_B',\n",
       " 'x_3_B',\n",
       " 'x_4_B',\n",
       " 'x_5_B',\n",
       " 'x_6_B',\n",
       " 'x_7_B',\n",
       " 'x_8_B',\n",
       " 'x_9_B',\n",
       " 'x_10_B',\n",
       " 'x_11_B',\n",
       " 'y_B']"
      ]
     },
     "execution_count": 41,
     "metadata": {},
     "output_type": "execute_result"
    }
   ],
   "source": [
    "Columns_2"
   ]
  },
  {
   "cell_type": "code",
   "execution_count": 42,
   "metadata": {
    "collapsed": true
   },
   "outputs": [],
   "source": [
    "F2 = df2.toDF(*Columns_2)"
   ]
  },
  {
   "cell_type": "code",
   "execution_count": 43,
   "metadata": {},
   "outputs": [
    {
     "name": "stdout",
     "output_type": "stream",
     "text": [
      "+-----+-----+-----+-----+-----+-----+-----+-------+-----+------+----------------+---+-----+-----+-----+-----+-----+-----+-----+-----+-----+------+------+---+\n",
      "|x_1_A|x_2_A|x_3_A|x_4_A|x_5_A|x_6_A|x_7_A|  x_8_A|x_9_A|x_10_A|          x_11_A|y_A|x_1_B|x_2_B|x_3_B|x_4_B|x_5_B|x_6_B|x_7_B|x_8_B|x_9_B|x_10_B|x_11_B|y_B|\n",
      "+-----+-----+-----+-----+-----+-----+-----+-------+-----+------+----------------+---+-----+-----+-----+-----+-----+-----+-----+-----+-----+------+------+---+\n",
      "| 12.9|  0.5| 0.55|  2.8|0.072|  7.0| 24.0|1.00012| 3.09|  0.68|            10.9|  6|  7.0| 0.27| 0.36| 20.7|0.045| 45.0|170.0|1.001|  3.0|  0.45|   8.8|  6|\n",
      "|  7.3| 0.67| 0.02|  2.2|0.072| 31.0| 92.0|0.99566| 3.32|  0.68|11.0666666666667|  6|  7.0| 0.27| 0.36| 20.7|0.045| 45.0|170.0|1.001|  3.0|  0.45|   8.8|  6|\n",
      "|  6.9| 0.36| 0.25|  2.4|0.098|  5.0| 16.0| 0.9964| 3.41|   0.6|            10.1|  6|  7.0| 0.27| 0.36| 20.7|0.045| 45.0|170.0|1.001|  3.0|  0.45|   8.8|  6|\n",
      "| 11.3| 0.34| 0.45|  2.0|0.082|  6.0| 15.0| 0.9988| 2.94|  0.66|             9.2|  6|  7.0| 0.27| 0.36| 20.7|0.045| 45.0|170.0|1.001|  3.0|  0.45|   8.8|  6|\n",
      "|  8.0| 0.42| 0.17|  2.0|0.073|  6.0| 18.0| 0.9972| 3.29|  0.61|             9.2|  6|  7.0| 0.27| 0.36| 20.7|0.045| 45.0|170.0|1.001|  3.0|  0.45|   8.8|  6|\n",
      "+-----+-----+-----+-----+-----+-----+-----+-------+-----+------+----------------+---+-----+-----+-----+-----+-----+-----+-----+-----+-----+------+------+---+\n",
      "only showing top 5 rows\n",
      "\n"
     ]
    }
   ],
   "source": [
    "dfm = F1.join(F2, F1.y_A==F2.y_B)\n",
    "dfm.show(5)"
   ]
  },
  {
   "cell_type": "markdown",
   "metadata": {},
   "source": [
    "## Load dataset 3"
   ]
  },
  {
   "cell_type": "code",
   "execution_count": 44,
   "metadata": {
    "collapsed": true
   },
   "outputs": [],
   "source": [
    "df3 = spark.read\\\n",
    "    .format(\"csv\")\\\n",
    "    .option(\"header\", \"true\")\\\n",
    "    .option(\"inferschema\", \"true\")\\\n",
    "    .option(\"delimiter\",\",\")\\\n",
    "    .load(\"Datasets/Data-3.csv\")"
   ]
  },
  {
   "cell_type": "code",
   "execution_count": 45,
   "metadata": {},
   "outputs": [
    {
     "name": "stdout",
     "output_type": "stream",
     "text": [
      "+---+---+---+---+---+---+---+---+---+-----+\n",
      "|x_1|x_2|x_3|x_4|x_5|x_6|x_7|x_8|x_9|class|\n",
      "+---+---+---+---+---+---+---+---+---+-----+\n",
      "|  5|  1|  1|  1|  2|  1|  3|  1|  1|    0|\n",
      "|  5|  4|  4|  5|  7| 10|  3|  2|  1|    0|\n",
      "|  3|  1|  1|  1|  2|  2|  3|  1|  1|    0|\n",
      "|  6|  8|  8|  1|  3|  4|  3|  7|  1|    0|\n",
      "|  4|  1|  1|  3|  2|  1|  3|  1|  1|    0|\n",
      "|  8| 10| 10|  8|  7| 10|  9|  7|  1|    1|\n",
      "|  1|  1|  1|  1|  2| 10|  3|  1|  1|    0|\n",
      "|  2|  1|  2|  1|  2|  1|  3|  1|  1|    0|\n",
      "|  2|  1|  1|  1|  2|  1|  1|  1|  5|    0|\n",
      "|  4|  2|  1|  1|  2|  1|  2|  1|  1|    0|\n",
      "|  1|  1|  1|  1|  1|  1|  3|  1|  1|    0|\n",
      "|  2|  1|  1|  1|  2|  1|  2|  1|  1|    0|\n",
      "|  5|  3|  3|  3|  2|  3|  4|  4|  1|    1|\n",
      "|  1|  1|  1|  1|  2|  3|  3|  1|  1|    0|\n",
      "|  8|  7|  5| 10|  7|  9|  5|  5|  4|    1|\n",
      "|  7|  4|  6|  4|  6|  1|  4|  3|  1|    1|\n",
      "|  4|  1|  1|  1|  2|  1|  2|  1|  1|    0|\n",
      "|  4|  1|  1|  1|  2|  1|  3|  1|  1|    0|\n",
      "| 10|  7|  7|  6|  4| 10|  4|  1|  2|    1|\n",
      "|  6|  1|  1|  1|  2|  1|  3|  1|  1|    0|\n",
      "|  7|  3|  2| 10|  5| 10|  5|  4|  4|    1|\n",
      "| 10|  5|  5|  3|  6|  7|  7| 10|  1|    1|\n",
      "|  3|  1|  1|  1|  2|  1|  2|  1|  1|    0|\n",
      "|  8|  4|  5|  1|  2|  ?|  7|  3|  1|    1|\n",
      "|  1|  1|  1|  1|  2|  1|  3|  1|  1|    0|\n",
      "|  5|  2|  3|  4|  2|  7|  3|  6|  1|    1|\n",
      "|  3|  2|  1|  1|  1|  1|  2|  1|  1|    0|\n",
      "|  5|  1|  1|  1|  2|  1|  2|  1|  1|    0|\n",
      "|  2|  1|  1|  1|  2|  1|  2|  1|  1|    0|\n",
      "|  1|  1|  3|  1|  2|  1|  1|  1|  1|    0|\n",
      "+---+---+---+---+---+---+---+---+---+-----+\n",
      "only showing top 30 rows\n",
      "\n"
     ]
    }
   ],
   "source": [
    "df3.show(30)"
   ]
  },
  {
   "cell_type": "code",
   "execution_count": 46,
   "metadata": {},
   "outputs": [
    {
     "name": "stdout",
     "output_type": "stream",
     "text": [
      "root\n",
      " |-- x_1: integer (nullable = true)\n",
      " |-- x_2: integer (nullable = true)\n",
      " |-- x_3: integer (nullable = true)\n",
      " |-- x_4: integer (nullable = true)\n",
      " |-- x_5: integer (nullable = true)\n",
      " |-- x_6: string (nullable = true)\n",
      " |-- x_7: integer (nullable = true)\n",
      " |-- x_8: integer (nullable = true)\n",
      " |-- x_9: integer (nullable = true)\n",
      " |-- class: integer (nullable = true)\n",
      "\n"
     ]
    }
   ],
   "source": [
    "df3.printSchema()"
   ]
  },
  {
   "cell_type": "code",
   "execution_count": 47,
   "metadata": {},
   "outputs": [
    {
     "name": "stdout",
     "output_type": "stream",
     "text": [
      "+---+---+---+---+---+---+---+---+---+-----+\n",
      "|x_1|x_2|x_3|x_4|x_5|x_6|x_7|x_8|x_9|class|\n",
      "+---+---+---+---+---+---+---+---+---+-----+\n",
      "|  8|  4|  5|  1|  2|  ?|  7|  3|  1|    1|\n",
      "|  6|  6|  6|  9|  6|  ?|  7|  8|  1|    0|\n",
      "|  1|  1|  1|  1|  1|  ?|  2|  1|  1|    0|\n",
      "|  1|  1|  3|  1|  2|  ?|  2|  1|  1|    0|\n",
      "|  1|  1|  2|  1|  3|  ?|  1|  1|  1|    0|\n",
      "+---+---+---+---+---+---+---+---+---+-----+\n",
      "only showing top 5 rows\n",
      "\n"
     ]
    }
   ],
   "source": [
    "df3.filter(col(\"x_6\") == \"?\").show(5)"
   ]
  },
  {
   "cell_type": "code",
   "execution_count": 48,
   "metadata": {},
   "outputs": [
    {
     "data": {
      "text/plain": [
       "16"
      ]
     },
     "execution_count": 48,
     "metadata": {},
     "output_type": "execute_result"
    }
   ],
   "source": [
    "df3.filter(col(\"x_6\") == \"?\").count()"
   ]
  },
  {
   "cell_type": "markdown",
   "metadata": {},
   "source": [
    "## Cast columns to double"
   ]
  },
  {
   "cell_type": "code",
   "execution_count": 49,
   "metadata": {},
   "outputs": [
    {
     "data": {
      "text/plain": [
       "['x_1', 'x_2', 'x_3', 'x_4', 'x_5', 'x_6', 'x_7', 'x_8', 'x_9', 'class']"
      ]
     },
     "execution_count": 49,
     "metadata": {},
     "output_type": "execute_result"
    }
   ],
   "source": [
    "df3.columns"
   ]
  },
  {
   "cell_type": "code",
   "execution_count": 50,
   "metadata": {},
   "outputs": [
    {
     "name": "stdout",
     "output_type": "stream",
     "text": [
      "+---+\n",
      "|x_1|\n",
      "+---+\n",
      "|5.0|\n",
      "|5.0|\n",
      "|3.0|\n",
      "|6.0|\n",
      "|4.0|\n",
      "+---+\n",
      "only showing top 5 rows\n",
      "\n"
     ]
    }
   ],
   "source": [
    "df3.select(col('x_1').cast('double')).show(5)#.collect()"
   ]
  },
  {
   "cell_type": "code",
   "execution_count": 51,
   "metadata": {
    "collapsed": true
   },
   "outputs": [],
   "source": [
    "CD = []\n",
    "for name in df3.columns:\n",
    "    CD.append(col(name).cast('double'))"
   ]
  },
  {
   "cell_type": "code",
   "execution_count": 52,
   "metadata": {
    "collapsed": true
   },
   "outputs": [],
   "source": [
    "df4 = df3.select(*CD)"
   ]
  },
  {
   "cell_type": "code",
   "execution_count": 53,
   "metadata": {},
   "outputs": [
    {
     "name": "stdout",
     "output_type": "stream",
     "text": [
      "+----+----+----+----+---+----+---+----+---+-----+\n",
      "| x_1| x_2| x_3| x_4|x_5| x_6|x_7| x_8|x_9|class|\n",
      "+----+----+----+----+---+----+---+----+---+-----+\n",
      "| 5.0| 1.0| 1.0| 1.0|2.0| 1.0|3.0| 1.0|1.0|  0.0|\n",
      "| 5.0| 4.0| 4.0| 5.0|7.0|10.0|3.0| 2.0|1.0|  0.0|\n",
      "| 3.0| 1.0| 1.0| 1.0|2.0| 2.0|3.0| 1.0|1.0|  0.0|\n",
      "| 6.0| 8.0| 8.0| 1.0|3.0| 4.0|3.0| 7.0|1.0|  0.0|\n",
      "| 4.0| 1.0| 1.0| 3.0|2.0| 1.0|3.0| 1.0|1.0|  0.0|\n",
      "| 8.0|10.0|10.0| 8.0|7.0|10.0|9.0| 7.0|1.0|  1.0|\n",
      "| 1.0| 1.0| 1.0| 1.0|2.0|10.0|3.0| 1.0|1.0|  0.0|\n",
      "| 2.0| 1.0| 2.0| 1.0|2.0| 1.0|3.0| 1.0|1.0|  0.0|\n",
      "| 2.0| 1.0| 1.0| 1.0|2.0| 1.0|1.0| 1.0|5.0|  0.0|\n",
      "| 4.0| 2.0| 1.0| 1.0|2.0| 1.0|2.0| 1.0|1.0|  0.0|\n",
      "| 1.0| 1.0| 1.0| 1.0|1.0| 1.0|3.0| 1.0|1.0|  0.0|\n",
      "| 2.0| 1.0| 1.0| 1.0|2.0| 1.0|2.0| 1.0|1.0|  0.0|\n",
      "| 5.0| 3.0| 3.0| 3.0|2.0| 3.0|4.0| 4.0|1.0|  1.0|\n",
      "| 1.0| 1.0| 1.0| 1.0|2.0| 3.0|3.0| 1.0|1.0|  0.0|\n",
      "| 8.0| 7.0| 5.0|10.0|7.0| 9.0|5.0| 5.0|4.0|  1.0|\n",
      "| 7.0| 4.0| 6.0| 4.0|6.0| 1.0|4.0| 3.0|1.0|  1.0|\n",
      "| 4.0| 1.0| 1.0| 1.0|2.0| 1.0|2.0| 1.0|1.0|  0.0|\n",
      "| 4.0| 1.0| 1.0| 1.0|2.0| 1.0|3.0| 1.0|1.0|  0.0|\n",
      "|10.0| 7.0| 7.0| 6.0|4.0|10.0|4.0| 1.0|2.0|  1.0|\n",
      "| 6.0| 1.0| 1.0| 1.0|2.0| 1.0|3.0| 1.0|1.0|  0.0|\n",
      "| 7.0| 3.0| 2.0|10.0|5.0|10.0|5.0| 4.0|4.0|  1.0|\n",
      "|10.0| 5.0| 5.0| 3.0|6.0| 7.0|7.0|10.0|1.0|  1.0|\n",
      "| 3.0| 1.0| 1.0| 1.0|2.0| 1.0|2.0| 1.0|1.0|  0.0|\n",
      "| 8.0| 4.0| 5.0| 1.0|2.0|null|7.0| 3.0|1.0|  1.0|\n",
      "| 1.0| 1.0| 1.0| 1.0|2.0| 1.0|3.0| 1.0|1.0|  0.0|\n",
      "| 5.0| 2.0| 3.0| 4.0|2.0| 7.0|3.0| 6.0|1.0|  1.0|\n",
      "| 3.0| 2.0| 1.0| 1.0|1.0| 1.0|2.0| 1.0|1.0|  0.0|\n",
      "| 5.0| 1.0| 1.0| 1.0|2.0| 1.0|2.0| 1.0|1.0|  0.0|\n",
      "| 2.0| 1.0| 1.0| 1.0|2.0| 1.0|2.0| 1.0|1.0|  0.0|\n",
      "| 1.0| 1.0| 3.0| 1.0|2.0| 1.0|1.0| 1.0|1.0|  0.0|\n",
      "+----+----+----+----+---+----+---+----+---+-----+\n",
      "only showing top 30 rows\n",
      "\n"
     ]
    }
   ],
   "source": [
    "df4.show(30)"
   ]
  },
  {
   "cell_type": "code",
   "execution_count": 54,
   "metadata": {},
   "outputs": [
    {
     "name": "stdout",
     "output_type": "stream",
     "text": [
      "root\n",
      " |-- x_1: double (nullable = true)\n",
      " |-- x_2: double (nullable = true)\n",
      " |-- x_3: double (nullable = true)\n",
      " |-- x_4: double (nullable = true)\n",
      " |-- x_5: double (nullable = true)\n",
      " |-- x_6: double (nullable = true)\n",
      " |-- x_7: double (nullable = true)\n",
      " |-- x_8: double (nullable = true)\n",
      " |-- x_9: double (nullable = true)\n",
      " |-- class: double (nullable = true)\n",
      "\n"
     ]
    }
   ],
   "source": [
    "df4.printSchema()"
   ]
  },
  {
   "cell_type": "markdown",
   "metadata": {},
   "source": [
    "## Replace NaNs with the mean"
   ]
  },
  {
   "cell_type": "code",
   "execution_count": 55,
   "metadata": {},
   "outputs": [
    {
     "data": {
      "text/plain": [
       "16"
      ]
     },
     "execution_count": 55,
     "metadata": {},
     "output_type": "execute_result"
    }
   ],
   "source": [
    "df4.filter(col(\"x_6\").isNull()).count()"
   ]
  },
  {
   "cell_type": "code",
   "execution_count": 56,
   "metadata": {},
   "outputs": [
    {
     "data": {
      "text/plain": [
       "3.5446559297218156"
      ]
     },
     "execution_count": 56,
     "metadata": {},
     "output_type": "execute_result"
    }
   ],
   "source": [
    "M = df4.select(mean(\"x_6\")).collect()[0][0] #take(1)[0][0]\n",
    "M"
   ]
  },
  {
   "cell_type": "code",
   "execution_count": 57,
   "metadata": {
    "collapsed": true
   },
   "outputs": [],
   "source": [
    "df5 = df4.na.fill(M)"
   ]
  },
  {
   "cell_type": "code",
   "execution_count": 58,
   "metadata": {},
   "outputs": [
    {
     "data": {
      "text/plain": [
       "0"
      ]
     },
     "execution_count": 58,
     "metadata": {},
     "output_type": "execute_result"
    }
   ],
   "source": [
    "df5.filter(col(\"x_6\").isNull()).count()"
   ]
  },
  {
   "cell_type": "code",
   "execution_count": 59,
   "metadata": {
    "collapsed": true
   },
   "outputs": [],
   "source": [
    "sc.stop()"
   ]
  }
 ],
 "metadata": {
  "kernelspec": {
   "display_name": "Python 2",
   "language": "python",
   "name": "python2"
  },
  "language_info": {
   "codemirror_mode": {
    "name": "ipython",
    "version": 2
   },
   "file_extension": ".py",
   "mimetype": "text/x-python",
   "name": "python",
   "nbconvert_exporter": "python",
   "pygments_lexer": "ipython2",
   "version": "2.7.10"
  }
 },
 "nbformat": 4,
 "nbformat_minor": 2
}
