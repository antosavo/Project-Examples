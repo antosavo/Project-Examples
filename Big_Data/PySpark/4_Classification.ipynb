{
 "cells": [
  {
   "cell_type": "code",
   "execution_count": 1,
   "metadata": {
    "collapsed": true
   },
   "outputs": [],
   "source": [
    "import numpy as np\n",
    "import pandas as pd\n",
    "import matplotlib.pyplot as plt"
   ]
  },
  {
   "cell_type": "code",
   "execution_count": 2,
   "metadata": {
    "collapsed": true
   },
   "outputs": [],
   "source": [
    "import findspark\n",
    "findspark.init()\n",
    "import pyspark\n",
    "from pyspark.sql.functions import *\n",
    "from pyspark.sql import SparkSession\n",
    "from pyspark import SparkContext, SparkConf\n",
    "from pyspark.ml.feature import VectorAssembler,MinMaxScaler,StandardScaler\n",
    "from pyspark.ml.classification import LogisticRegression,OneVsRest, OneVsRestModel\n",
    "from pyspark.ml.evaluation import MulticlassClassificationEvaluator"
   ]
  },
  {
   "cell_type": "code",
   "execution_count": 3,
   "metadata": {
    "collapsed": true
   },
   "outputs": [],
   "source": [
    "conf = SparkConf().setMaster(\"local[*]\")\n",
    "sc = SparkContext(conf=conf)"
   ]
  },
  {
   "cell_type": "code",
   "execution_count": 4,
   "metadata": {
    "collapsed": true
   },
   "outputs": [],
   "source": [
    "spark = SparkSession\\\n",
    "    .builder\\\n",
    "    .appName(\"MyApp\")\\\n",
    "    .getOrCreate()"
   ]
  },
  {
   "cell_type": "markdown",
   "metadata": {},
   "source": [
    "## Load the dataset"
   ]
  },
  {
   "cell_type": "code",
   "execution_count": 5,
   "metadata": {
    "collapsed": true
   },
   "outputs": [],
   "source": [
    "df = spark.read\\\n",
    "    .format(\"csv\")\\\n",
    "    .option(\"header\", \"true\")\\\n",
    "    .option(\"inferschema\", \"true\")\\\n",
    "    .option(\"delimiter\",\";\")\\\n",
    "    .load(\"Datasets/Data-1.csv\")#.repartition(3)"
   ]
  },
  {
   "cell_type": "markdown",
   "metadata": {},
   "source": [
    "## Explore the dataset"
   ]
  },
  {
   "cell_type": "code",
   "execution_count": 6,
   "metadata": {},
   "outputs": [
    {
     "name": "stdout",
     "output_type": "stream",
     "text": [
      "+----+----+----+---+-----+----+----+------+----+----+----+---+\n",
      "| x_1| x_2| x_3|x_4|  x_5| x_6| x_7|   x_8| x_9|x_10|x_11|  y|\n",
      "+----+----+----+---+-----+----+----+------+----+----+----+---+\n",
      "| 7.4| 0.7| 0.0|1.9|0.076|11.0|34.0|0.9978|3.51|0.56| 9.4|  5|\n",
      "| 7.8|0.88| 0.0|2.6|0.098|25.0|67.0|0.9968| 3.2|0.68| 9.8|  5|\n",
      "| 7.8|0.76|0.04|2.3|0.092|15.0|54.0| 0.997|3.26|0.65| 9.8|  5|\n",
      "|11.2|0.28|0.56|1.9|0.075|17.0|60.0| 0.998|3.16|0.58| 9.8|  6|\n",
      "| 7.4| 0.7| 0.0|1.9|0.076|11.0|34.0|0.9978|3.51|0.56| 9.4|  5|\n",
      "+----+----+----+---+-----+----+----+------+----+----+----+---+\n",
      "only showing top 5 rows\n",
      "\n"
     ]
    }
   ],
   "source": [
    "df.show(5)"
   ]
  },
  {
   "cell_type": "code",
   "execution_count": 7,
   "metadata": {},
   "outputs": [
    {
     "name": "stdout",
     "output_type": "stream",
     "text": [
      "root\n",
      " |-- x_1: double (nullable = true)\n",
      " |-- x_2: double (nullable = true)\n",
      " |-- x_3: double (nullable = true)\n",
      " |-- x_4: double (nullable = true)\n",
      " |-- x_5: double (nullable = true)\n",
      " |-- x_6: double (nullable = true)\n",
      " |-- x_7: double (nullable = true)\n",
      " |-- x_8: double (nullable = true)\n",
      " |-- x_9: double (nullable = true)\n",
      " |-- x_10: double (nullable = true)\n",
      " |-- x_11: double (nullable = true)\n",
      " |-- y: integer (nullable = true)\n",
      "\n"
     ]
    }
   ],
   "source": [
    "df.printSchema()"
   ]
  },
  {
   "cell_type": "code",
   "execution_count": 8,
   "metadata": {},
   "outputs": [
    {
     "data": {
      "text/html": [
       "<div>\n",
       "<style scoped>\n",
       "    .dataframe tbody tr th:only-of-type {\n",
       "        vertical-align: middle;\n",
       "    }\n",
       "\n",
       "    .dataframe tbody tr th {\n",
       "        vertical-align: top;\n",
       "    }\n",
       "\n",
       "    .dataframe thead th {\n",
       "        text-align: right;\n",
       "    }\n",
       "</style>\n",
       "<table border=\"1\" class=\"dataframe\">\n",
       "  <thead>\n",
       "    <tr style=\"text-align: right;\">\n",
       "      <th></th>\n",
       "      <th>summary</th>\n",
       "      <th>x_1</th>\n",
       "      <th>x_2</th>\n",
       "      <th>x_3</th>\n",
       "      <th>x_4</th>\n",
       "      <th>x_5</th>\n",
       "      <th>x_6</th>\n",
       "      <th>x_7</th>\n",
       "      <th>x_8</th>\n",
       "      <th>x_9</th>\n",
       "      <th>x_10</th>\n",
       "      <th>x_11</th>\n",
       "      <th>y</th>\n",
       "    </tr>\n",
       "  </thead>\n",
       "  <tbody>\n",
       "    <tr>\n",
       "      <th>0</th>\n",
       "      <td>count</td>\n",
       "      <td>1599</td>\n",
       "      <td>1599</td>\n",
       "      <td>1599</td>\n",
       "      <td>1599</td>\n",
       "      <td>1599</td>\n",
       "      <td>1599</td>\n",
       "      <td>1599</td>\n",
       "      <td>1599</td>\n",
       "      <td>1599</td>\n",
       "      <td>1599</td>\n",
       "      <td>1599</td>\n",
       "      <td>1599</td>\n",
       "    </tr>\n",
       "    <tr>\n",
       "      <th>1</th>\n",
       "      <td>mean</td>\n",
       "      <td>8.319637273295838</td>\n",
       "      <td>0.5278205128205131</td>\n",
       "      <td>0.2709756097560964</td>\n",
       "      <td>2.5388055034396517</td>\n",
       "      <td>0.08746654158849257</td>\n",
       "      <td>15.874921826141339</td>\n",
       "      <td>46.46779237023139</td>\n",
       "      <td>0.9967466791744831</td>\n",
       "      <td>3.311113195747343</td>\n",
       "      <td>0.6581488430268921</td>\n",
       "      <td>10.422983114446502</td>\n",
       "      <td>5.6360225140712945</td>\n",
       "    </tr>\n",
       "    <tr>\n",
       "      <th>2</th>\n",
       "      <td>stddev</td>\n",
       "      <td>1.7410963181276948</td>\n",
       "      <td>0.17905970415353525</td>\n",
       "      <td>0.19480113740531824</td>\n",
       "      <td>1.40992805950728</td>\n",
       "      <td>0.047065302010090085</td>\n",
       "      <td>10.46015696980971</td>\n",
       "      <td>32.89532447829907</td>\n",
       "      <td>0.0018873339538427265</td>\n",
       "      <td>0.15438646490354271</td>\n",
       "      <td>0.1695069795901101</td>\n",
       "      <td>1.0656675818473935</td>\n",
       "      <td>0.8075694397347051</td>\n",
       "    </tr>\n",
       "    <tr>\n",
       "      <th>3</th>\n",
       "      <td>min</td>\n",
       "      <td>4.6</td>\n",
       "      <td>0.12</td>\n",
       "      <td>0.0</td>\n",
       "      <td>0.9</td>\n",
       "      <td>0.012</td>\n",
       "      <td>1.0</td>\n",
       "      <td>6.0</td>\n",
       "      <td>0.99007</td>\n",
       "      <td>2.74</td>\n",
       "      <td>0.33</td>\n",
       "      <td>8.4</td>\n",
       "      <td>3</td>\n",
       "    </tr>\n",
       "    <tr>\n",
       "      <th>4</th>\n",
       "      <td>max</td>\n",
       "      <td>15.9</td>\n",
       "      <td>1.58</td>\n",
       "      <td>1.0</td>\n",
       "      <td>15.5</td>\n",
       "      <td>0.611</td>\n",
       "      <td>72.0</td>\n",
       "      <td>289.0</td>\n",
       "      <td>1.00369</td>\n",
       "      <td>4.01</td>\n",
       "      <td>2.0</td>\n",
       "      <td>14.9</td>\n",
       "      <td>8</td>\n",
       "    </tr>\n",
       "  </tbody>\n",
       "</table>\n",
       "</div>"
      ],
      "text/plain": [
       "  summary                 x_1                  x_2                  x_3  \\\n",
       "0   count                1599                 1599                 1599   \n",
       "1    mean   8.319637273295838   0.5278205128205131   0.2709756097560964   \n",
       "2  stddev  1.7410963181276948  0.17905970415353525  0.19480113740531824   \n",
       "3     min                 4.6                 0.12                  0.0   \n",
       "4     max                15.9                 1.58                  1.0   \n",
       "\n",
       "                  x_4                   x_5                 x_6  \\\n",
       "0                1599                  1599                1599   \n",
       "1  2.5388055034396517   0.08746654158849257  15.874921826141339   \n",
       "2    1.40992805950728  0.047065302010090085   10.46015696980971   \n",
       "3                 0.9                 0.012                 1.0   \n",
       "4                15.5                 0.611                72.0   \n",
       "\n",
       "                 x_7                    x_8                  x_9  \\\n",
       "0               1599                   1599                 1599   \n",
       "1  46.46779237023139     0.9967466791744831    3.311113195747343   \n",
       "2  32.89532447829907  0.0018873339538427265  0.15438646490354271   \n",
       "3                6.0                0.99007                 2.74   \n",
       "4              289.0                1.00369                 4.01   \n",
       "\n",
       "                 x_10                x_11                   y  \n",
       "0                1599                1599                1599  \n",
       "1  0.6581488430268921  10.422983114446502  5.6360225140712945  \n",
       "2  0.1695069795901101  1.0656675818473935  0.8075694397347051  \n",
       "3                0.33                 8.4                   3  \n",
       "4                 2.0                14.9                   8  "
      ]
     },
     "execution_count": 8,
     "metadata": {},
     "output_type": "execute_result"
    }
   ],
   "source": [
    "df.describe().toPandas()"
   ]
  },
  {
   "cell_type": "code",
   "execution_count": 9,
   "metadata": {},
   "outputs": [
    {
     "name": "stdout",
     "output_type": "stream",
     "text": [
      "+---+\n",
      "|  y|\n",
      "+---+\n",
      "|  3|\n",
      "|  4|\n",
      "|  5|\n",
      "|  6|\n",
      "|  7|\n",
      "|  8|\n",
      "+---+\n",
      "\n"
     ]
    }
   ],
   "source": [
    "df.select(\"y\").distinct().sort(\"y\").show()"
   ]
  },
  {
   "cell_type": "code",
   "execution_count": 10,
   "metadata": {},
   "outputs": [
    {
     "name": "stdout",
     "output_type": "stream",
     "text": [
      "+---+-----+\n",
      "|  y|count|\n",
      "+---+-----+\n",
      "|  3|   10|\n",
      "|  4|   53|\n",
      "|  5|  681|\n",
      "|  6|  638|\n",
      "|  7|  199|\n",
      "|  8|   18|\n",
      "+---+-----+\n",
      "\n"
     ]
    }
   ],
   "source": [
    "df.groupBy(\"y\").count().sort(\"y\").show()"
   ]
  },
  {
   "cell_type": "markdown",
   "metadata": {},
   "source": [
    "## Apply Vector Assembler"
   ]
  },
  {
   "cell_type": "code",
   "execution_count": 11,
   "metadata": {},
   "outputs": [
    {
     "data": {
      "text/plain": [
       "['x_1', 'x_2', 'x_3', 'x_4', 'x_5', 'x_6', 'x_7', 'x_8', 'x_9', 'x_10', 'x_11']"
      ]
     },
     "execution_count": 11,
     "metadata": {},
     "output_type": "execute_result"
    }
   ],
   "source": [
    "features = df.columns[0:len(df.columns)-1]\n",
    "features"
   ]
  },
  {
   "cell_type": "code",
   "execution_count": 12,
   "metadata": {
    "collapsed": true
   },
   "outputs": [],
   "source": [
    "assembler = VectorAssembler()\\\n",
    "    .setInputCols(features)\\\n",
    "    .setOutputCol(\"features\")"
   ]
  },
  {
   "cell_type": "code",
   "execution_count": 13,
   "metadata": {},
   "outputs": [
    {
     "name": "stdout",
     "output_type": "stream",
     "text": [
      "+--------------------+-----+\n",
      "|            features|label|\n",
      "+--------------------+-----+\n",
      "|[7.4,0.7,0.0,1.9,...|    5|\n",
      "|[7.8,0.88,0.0,2.6...|    5|\n",
      "|[7.8,0.76,0.04,2....|    5|\n",
      "|[11.2,0.28,0.56,1...|    6|\n",
      "|[7.4,0.7,0.0,1.9,...|    5|\n",
      "|[7.4,0.66,0.0,1.8...|    5|\n",
      "|[7.9,0.6,0.06,1.6...|    5|\n",
      "|[7.3,0.65,0.0,1.2...|    7|\n",
      "|[7.8,0.58,0.02,2....|    7|\n",
      "|[7.5,0.5,0.36,6.1...|    5|\n",
      "+--------------------+-----+\n",
      "only showing top 10 rows\n",
      "\n"
     ]
    }
   ],
   "source": [
    "df_v = assembler.transform(df)\\\n",
    "    .select(col(\"features\"), col(\"y\").alias(\"label\"))\n",
    "\n",
    "df_v.show(10)"
   ]
  },
  {
   "cell_type": "markdown",
   "metadata": {},
   "source": [
    "## Split into train and test sets"
   ]
  },
  {
   "cell_type": "code",
   "execution_count": 14,
   "metadata": {
    "collapsed": true
   },
   "outputs": [],
   "source": [
    "trainingData, testData = df_v.randomSplit([0.7, 0.3])"
   ]
  },
  {
   "cell_type": "markdown",
   "metadata": {},
   "source": [
    "## Scale the features"
   ]
  },
  {
   "cell_type": "code",
   "execution_count": 15,
   "metadata": {
    "collapsed": true
   },
   "outputs": [],
   "source": [
    "scaler = MinMaxScaler()\\\n",
    "    .setInputCol(\"features\")\\\n",
    "    .setOutputCol(\"scaledFeatures\")"
   ]
  },
  {
   "cell_type": "code",
   "execution_count": 16,
   "metadata": {
    "collapsed": true
   },
   "outputs": [],
   "source": [
    "s = scaler.fit(trainingData)"
   ]
  },
  {
   "cell_type": "code",
   "execution_count": 17,
   "metadata": {
    "collapsed": true
   },
   "outputs": [],
   "source": [
    "trainingData_s = s.transform(trainingData)\n",
    "testData_s = s.transform(testData)"
   ]
  },
  {
   "cell_type": "markdown",
   "metadata": {},
   "source": [
    "## Train the model"
   ]
  },
  {
   "cell_type": "code",
   "execution_count": 18,
   "metadata": {
    "collapsed": true
   },
   "outputs": [],
   "source": [
    "lr = LogisticRegression()\\\n",
    "    .setMaxIter(100)\\\n",
    "    .setFeaturesCol(\"scaledFeatures\")"
   ]
  },
  {
   "cell_type": "code",
   "execution_count": 19,
   "metadata": {
    "collapsed": true
   },
   "outputs": [],
   "source": [
    "ovr = OneVsRest().setClassifier(lr)"
   ]
  },
  {
   "cell_type": "code",
   "execution_count": 20,
   "metadata": {
    "collapsed": true
   },
   "outputs": [],
   "source": [
    "model = ovr.fit(trainingData_s)"
   ]
  },
  {
   "cell_type": "markdown",
   "metadata": {},
   "source": [
    "## Make predictions"
   ]
  },
  {
   "cell_type": "code",
   "execution_count": 21,
   "metadata": {},
   "outputs": [
    {
     "name": "stdout",
     "output_type": "stream",
     "text": [
      "+--------------------+-----+--------------------+----------+\n",
      "|            features|label|      scaledFeatures|prediction|\n",
      "+--------------------+-----+--------------------+----------+\n",
      "|[5.0,0.4,0.5,4.3,...|    6|[0.03539823008849...|       7.0|\n",
      "|[5.0,0.42,0.24,2....|    8|[0.03539823008849...|       7.0|\n",
      "|[5.0,1.04,0.24,1....|    5|[0.03539823008849...|       5.0|\n",
      "|[5.1,0.42,0.0,1.8...|    7|[0.04424778761061...|       7.0|\n",
      "|[5.1,0.585,0.0,1....|    7|[0.04424778761061...|       6.0|\n",
      "+--------------------+-----+--------------------+----------+\n",
      "only showing top 5 rows\n",
      "\n"
     ]
    }
   ],
   "source": [
    "predictions = model.transform(testData_s)\n",
    "predictions.show(5)\n",
    "#predictions.toPandas()"
   ]
  },
  {
   "cell_type": "code",
   "execution_count": 22,
   "metadata": {},
   "outputs": [
    {
     "name": "stdout",
     "output_type": "stream",
     "text": [
      "+----------------+---+---+---+\n",
      "|label_prediction|5.0|6.0|7.0|\n",
      "+----------------+---+---+---+\n",
      "|               3|  2|  1|  0|\n",
      "|               4| 10|  1|  0|\n",
      "|               5|149| 32|  2|\n",
      "|               6| 72| 84| 21|\n",
      "|               7|  2| 27| 15|\n",
      "|               8|  0|  2|  4|\n",
      "+----------------+---+---+---+\n",
      "\n"
     ]
    }
   ],
   "source": [
    "predictions.stat\\\n",
    "    .crosstab(\"label\", \"prediction\")\\\n",
    "    .sort(\"label_prediction\").show()"
   ]
  },
  {
   "cell_type": "markdown",
   "metadata": {},
   "source": [
    "## Evaluate the model"
   ]
  },
  {
   "cell_type": "code",
   "execution_count": 23,
   "metadata": {
    "collapsed": true
   },
   "outputs": [],
   "source": [
    "evaluator = MulticlassClassificationEvaluator()\\\n",
    "    .setLabelCol(\"label\")\\\n",
    "    .setPredictionCol(\"prediction\")\\\n",
    "    .setMetricName(\"accuracy\")"
   ]
  },
  {
   "cell_type": "code",
   "execution_count": 24,
   "metadata": {},
   "outputs": [
    {
     "data": {
      "text/plain": [
       "0.5849056603773585"
      ]
     },
     "execution_count": 24,
     "metadata": {},
     "output_type": "execute_result"
    }
   ],
   "source": [
    "accuracy = evaluator.evaluate(predictions)\n",
    "accuracy"
   ]
  },
  {
   "cell_type": "markdown",
   "metadata": {},
   "source": [
    "## Save and load the model"
   ]
  },
  {
   "cell_type": "code",
   "execution_count": 25,
   "metadata": {
    "collapsed": true
   },
   "outputs": [],
   "source": [
    "model.save(\"LR-Model\")"
   ]
  },
  {
   "cell_type": "code",
   "execution_count": 26,
   "metadata": {
    "collapsed": true
   },
   "outputs": [],
   "source": [
    "model_2 = OneVsRestModel.load(\"LR-Model\")"
   ]
  },
  {
   "cell_type": "code",
   "execution_count": 27,
   "metadata": {},
   "outputs": [
    {
     "name": "stdout",
     "output_type": "stream",
     "text": [
      "+--------------------+-----+--------------------+----------+\n",
      "|            features|label|      scaledFeatures|prediction|\n",
      "+--------------------+-----+--------------------+----------+\n",
      "|[5.0,0.4,0.5,4.3,...|    6|[0.03539823008849...|       7.0|\n",
      "|[5.0,0.42,0.24,2....|    8|[0.03539823008849...|       7.0|\n",
      "|[5.0,1.04,0.24,1....|    5|[0.03539823008849...|       5.0|\n",
      "|[5.1,0.42,0.0,1.8...|    7|[0.04424778761061...|       7.0|\n",
      "|[5.1,0.585,0.0,1....|    7|[0.04424778761061...|       6.0|\n",
      "+--------------------+-----+--------------------+----------+\n",
      "only showing top 5 rows\n",
      "\n"
     ]
    }
   ],
   "source": [
    "predictions_2 = model_2.transform(testData_s)\n",
    "predictions_2.show(5)\n",
    "#predictions_2.toPandas()"
   ]
  }
 ],
 "metadata": {
  "kernelspec": {
   "display_name": "Python 2",
   "language": "python",
   "name": "python2"
  },
  "language_info": {
   "codemirror_mode": {
    "name": "ipython",
    "version": 2
   },
   "file_extension": ".py",
   "mimetype": "text/x-python",
   "name": "python",
   "nbconvert_exporter": "python",
   "pygments_lexer": "ipython2",
   "version": "2.7.10"
  }
 },
 "nbformat": 4,
 "nbformat_minor": 2
}
