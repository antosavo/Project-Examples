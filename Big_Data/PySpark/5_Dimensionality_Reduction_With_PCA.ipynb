{
 "cells": [
  {
   "cell_type": "code",
   "execution_count": 1,
   "metadata": {
    "collapsed": true
   },
   "outputs": [],
   "source": [
    "import numpy as np\n",
    "import pandas as pd\n",
    "import matplotlib.pyplot as plt"
   ]
  },
  {
   "cell_type": "code",
   "execution_count": 2,
   "metadata": {
    "collapsed": true
   },
   "outputs": [],
   "source": [
    "import findspark\n",
    "findspark.init()\n",
    "import pyspark\n",
    "from pyspark.sql.functions import *\n",
    "from pyspark.sql import SparkSession\n",
    "from pyspark import SparkContext, SparkConf\n",
    "from pyspark.ml.feature import VectorAssembler,StandardScaler\n",
    "from pyspark.ml.feature import PCA"
   ]
  },
  {
   "cell_type": "code",
   "execution_count": 3,
   "metadata": {
    "collapsed": true
   },
   "outputs": [],
   "source": [
    "conf = SparkConf().setMaster(\"local[*]\")\n",
    "sc = SparkContext(conf=conf)"
   ]
  },
  {
   "cell_type": "code",
   "execution_count": 4,
   "metadata": {
    "collapsed": true
   },
   "outputs": [],
   "source": [
    "spark = SparkSession\\\n",
    "    .builder\\\n",
    "    .appName(\"MyApp\")\\\n",
    "    .getOrCreate()"
   ]
  },
  {
   "cell_type": "markdown",
   "metadata": {},
   "source": [
    "## Load the dataset"
   ]
  },
  {
   "cell_type": "code",
   "execution_count": 5,
   "metadata": {
    "collapsed": true
   },
   "outputs": [],
   "source": [
    "df = spark.read\\\n",
    "    .format(\"csv\")\\\n",
    "    .option(\"header\", \"true\")\\\n",
    "    .option(\"inferschema\", \"true\")\\\n",
    "    .option(\"delimiter\",\",\")\\\n",
    "    .load(\"Datasets/data_with_300_features.csv\")#.repartition(3)"
   ]
  },
  {
   "cell_type": "markdown",
   "metadata": {},
   "source": [
    "## Explore the dataset"
   ]
  },
  {
   "cell_type": "code",
   "execution_count": 6,
   "metadata": {},
   "outputs": [
    {
     "name": "stdout",
     "output_type": "stream",
     "text": [
      "root\n",
      " |-- f_1: double (nullable = true)\n",
      " |-- f_2: double (nullable = true)\n",
      " |-- f_3: double (nullable = true)\n",
      " |-- f_4: double (nullable = true)\n",
      " |-- f_5: double (nullable = true)\n",
      " |-- f_6: double (nullable = true)\n",
      " |-- f_7: double (nullable = true)\n",
      " |-- f_8: double (nullable = true)\n",
      " |-- f_9: double (nullable = true)\n",
      " |-- f_10: double (nullable = true)\n",
      " |-- f_11: double (nullable = true)\n",
      " |-- f_12: double (nullable = true)\n",
      " |-- f_13: double (nullable = true)\n",
      " |-- f_14: double (nullable = true)\n",
      " |-- f_15: double (nullable = true)\n",
      " |-- f_16: double (nullable = true)\n",
      " |-- f_17: double (nullable = true)\n",
      " |-- f_18: double (nullable = true)\n",
      " |-- f_19: double (nullable = true)\n",
      " |-- f_20: double (nullable = true)\n",
      " |-- f_21: double (nullable = true)\n",
      " |-- f_22: double (nullable = true)\n",
      " |-- f_23: double (nullable = true)\n",
      " |-- f_24: double (nullable = true)\n",
      " |-- f_25: double (nullable = true)\n",
      " |-- f_26: double (nullable = true)\n",
      " |-- f_27: double (nullable = true)\n",
      " |-- f_28: double (nullable = true)\n",
      " |-- f_29: double (nullable = true)\n",
      " |-- f_30: double (nullable = true)\n",
      " |-- f_31: double (nullable = true)\n",
      " |-- f_32: double (nullable = true)\n",
      " |-- f_33: double (nullable = true)\n",
      " |-- f_34: double (nullable = true)\n",
      " |-- f_35: double (nullable = true)\n",
      " |-- f_36: double (nullable = true)\n",
      " |-- f_37: double (nullable = true)\n",
      " |-- f_38: double (nullable = true)\n",
      " |-- f_39: double (nullable = true)\n",
      " |-- f_40: double (nullable = true)\n",
      " |-- f_41: double (nullable = true)\n",
      " |-- f_42: double (nullable = true)\n",
      " |-- f_43: double (nullable = true)\n",
      " |-- f_44: double (nullable = true)\n",
      " |-- f_45: double (nullable = true)\n",
      " |-- f_46: double (nullable = true)\n",
      " |-- f_47: double (nullable = true)\n",
      " |-- f_48: double (nullable = true)\n",
      " |-- f_49: double (nullable = true)\n",
      " |-- f_50: double (nullable = true)\n",
      " |-- f_51: double (nullable = true)\n",
      " |-- f_52: double (nullable = true)\n",
      " |-- f_53: double (nullable = true)\n",
      " |-- f_54: double (nullable = true)\n",
      " |-- f_55: double (nullable = true)\n",
      " |-- f_56: double (nullable = true)\n",
      " |-- f_57: double (nullable = true)\n",
      " |-- f_58: double (nullable = true)\n",
      " |-- f_59: double (nullable = true)\n",
      " |-- f_60: double (nullable = true)\n",
      " |-- f_61: double (nullable = true)\n",
      " |-- f_62: double (nullable = true)\n",
      " |-- f_63: double (nullable = true)\n",
      " |-- f_64: double (nullable = true)\n",
      " |-- f_65: double (nullable = true)\n",
      " |-- f_66: double (nullable = true)\n",
      " |-- f_67: double (nullable = true)\n",
      " |-- f_68: double (nullable = true)\n",
      " |-- f_69: double (nullable = true)\n",
      " |-- f_70: double (nullable = true)\n",
      " |-- f_71: double (nullable = true)\n",
      " |-- f_72: double (nullable = true)\n",
      " |-- f_73: double (nullable = true)\n",
      " |-- f_74: double (nullable = true)\n",
      " |-- f_75: double (nullable = true)\n",
      " |-- f_76: double (nullable = true)\n",
      " |-- f_77: double (nullable = true)\n",
      " |-- f_78: double (nullable = true)\n",
      " |-- f_79: double (nullable = true)\n",
      " |-- f_80: double (nullable = true)\n",
      " |-- f_81: double (nullable = true)\n",
      " |-- f_82: double (nullable = true)\n",
      " |-- f_83: double (nullable = true)\n",
      " |-- f_84: double (nullable = true)\n",
      " |-- f_85: double (nullable = true)\n",
      " |-- f_86: double (nullable = true)\n",
      " |-- f_87: double (nullable = true)\n",
      " |-- f_88: double (nullable = true)\n",
      " |-- f_89: double (nullable = true)\n",
      " |-- f_90: double (nullable = true)\n",
      " |-- f_91: double (nullable = true)\n",
      " |-- f_92: double (nullable = true)\n",
      " |-- f_93: double (nullable = true)\n",
      " |-- f_94: double (nullable = true)\n",
      " |-- f_95: double (nullable = true)\n",
      " |-- f_96: double (nullable = true)\n",
      " |-- f_97: double (nullable = true)\n",
      " |-- f_98: double (nullable = true)\n",
      " |-- f_99: double (nullable = true)\n",
      " |-- f_100: double (nullable = true)\n",
      " |-- f_101: double (nullable = true)\n",
      " |-- f_102: double (nullable = true)\n",
      " |-- f_103: double (nullable = true)\n",
      " |-- f_104: double (nullable = true)\n",
      " |-- f_105: double (nullable = true)\n",
      " |-- f_106: double (nullable = true)\n",
      " |-- f_107: double (nullable = true)\n",
      " |-- f_108: double (nullable = true)\n",
      " |-- f_109: double (nullable = true)\n",
      " |-- f_110: double (nullable = true)\n",
      " |-- f_111: double (nullable = true)\n",
      " |-- f_112: double (nullable = true)\n",
      " |-- f_113: double (nullable = true)\n",
      " |-- f_114: double (nullable = true)\n",
      " |-- f_115: double (nullable = true)\n",
      " |-- f_116: double (nullable = true)\n",
      " |-- f_117: double (nullable = true)\n",
      " |-- f_118: double (nullable = true)\n",
      " |-- f_119: double (nullable = true)\n",
      " |-- f_120: double (nullable = true)\n",
      " |-- f_121: double (nullable = true)\n",
      " |-- f_122: double (nullable = true)\n",
      " |-- f_123: double (nullable = true)\n",
      " |-- f_124: double (nullable = true)\n",
      " |-- f_125: double (nullable = true)\n",
      " |-- f_126: double (nullable = true)\n",
      " |-- f_127: double (nullable = true)\n",
      " |-- f_128: double (nullable = true)\n",
      " |-- f_129: double (nullable = true)\n",
      " |-- f_130: double (nullable = true)\n",
      " |-- f_131: double (nullable = true)\n",
      " |-- f_132: double (nullable = true)\n",
      " |-- f_133: double (nullable = true)\n",
      " |-- f_134: double (nullable = true)\n",
      " |-- f_135: double (nullable = true)\n",
      " |-- f_136: double (nullable = true)\n",
      " |-- f_137: double (nullable = true)\n",
      " |-- f_138: double (nullable = true)\n",
      " |-- f_139: double (nullable = true)\n",
      " |-- f_140: double (nullable = true)\n",
      " |-- f_141: double (nullable = true)\n",
      " |-- f_142: double (nullable = true)\n",
      " |-- f_143: double (nullable = true)\n",
      " |-- f_144: double (nullable = true)\n",
      " |-- f_145: double (nullable = true)\n",
      " |-- f_146: double (nullable = true)\n",
      " |-- f_147: double (nullable = true)\n",
      " |-- f_148: double (nullable = true)\n",
      " |-- f_149: double (nullable = true)\n",
      " |-- f_150: double (nullable = true)\n",
      " |-- f_151: double (nullable = true)\n",
      " |-- f_152: double (nullable = true)\n",
      " |-- f_153: double (nullable = true)\n",
      " |-- f_154: double (nullable = true)\n",
      " |-- f_155: double (nullable = true)\n",
      " |-- f_156: double (nullable = true)\n",
      " |-- f_157: double (nullable = true)\n",
      " |-- f_158: double (nullable = true)\n",
      " |-- f_159: double (nullable = true)\n",
      " |-- f_160: double (nullable = true)\n",
      " |-- f_161: double (nullable = true)\n",
      " |-- f_162: double (nullable = true)\n",
      " |-- f_163: double (nullable = true)\n",
      " |-- f_164: double (nullable = true)\n",
      " |-- f_165: double (nullable = true)\n",
      " |-- f_166: double (nullable = true)\n",
      " |-- f_167: double (nullable = true)\n",
      " |-- f_168: double (nullable = true)\n",
      " |-- f_169: double (nullable = true)\n",
      " |-- f_170: double (nullable = true)\n",
      " |-- f_171: double (nullable = true)\n",
      " |-- f_172: double (nullable = true)\n",
      " |-- f_173: double (nullable = true)\n",
      " |-- f_174: double (nullable = true)\n",
      " |-- f_175: double (nullable = true)\n",
      " |-- f_176: double (nullable = true)\n",
      " |-- f_177: double (nullable = true)\n",
      " |-- f_178: double (nullable = true)\n",
      " |-- f_179: double (nullable = true)\n",
      " |-- f_180: double (nullable = true)\n",
      " |-- f_181: double (nullable = true)\n",
      " |-- f_182: double (nullable = true)\n",
      " |-- f_183: double (nullable = true)\n",
      " |-- f_184: double (nullable = true)\n",
      " |-- f_185: double (nullable = true)\n",
      " |-- f_186: double (nullable = true)\n",
      " |-- f_187: double (nullable = true)\n",
      " |-- f_188: double (nullable = true)\n",
      " |-- f_189: double (nullable = true)\n",
      " |-- f_190: double (nullable = true)\n",
      " |-- f_191: double (nullable = true)\n",
      " |-- f_192: double (nullable = true)\n",
      " |-- f_193: double (nullable = true)\n",
      " |-- f_194: double (nullable = true)\n",
      " |-- f_195: double (nullable = true)\n",
      " |-- f_196: double (nullable = true)\n",
      " |-- f_197: double (nullable = true)\n",
      " |-- f_198: double (nullable = true)\n",
      " |-- f_199: double (nullable = true)\n",
      " |-- f_200: double (nullable = true)\n",
      " |-- f_201: double (nullable = true)\n",
      " |-- f_202: double (nullable = true)\n",
      " |-- f_203: double (nullable = true)\n",
      " |-- f_204: double (nullable = true)\n",
      " |-- f_205: double (nullable = true)\n",
      " |-- f_206: double (nullable = true)\n",
      " |-- f_207: double (nullable = true)\n",
      " |-- f_208: double (nullable = true)\n",
      " |-- f_209: double (nullable = true)\n",
      " |-- f_210: double (nullable = true)\n",
      " |-- f_211: double (nullable = true)\n",
      " |-- f_212: double (nullable = true)\n",
      " |-- f_213: double (nullable = true)\n",
      " |-- f_214: double (nullable = true)\n",
      " |-- f_215: double (nullable = true)\n",
      " |-- f_216: double (nullable = true)\n",
      " |-- f_217: double (nullable = true)\n",
      " |-- f_218: double (nullable = true)\n",
      " |-- f_219: double (nullable = true)\n",
      " |-- f_220: double (nullable = true)\n",
      " |-- f_221: double (nullable = true)\n",
      " |-- f_222: double (nullable = true)\n",
      " |-- f_223: double (nullable = true)\n",
      " |-- f_224: double (nullable = true)\n",
      " |-- f_225: double (nullable = true)\n",
      " |-- f_226: double (nullable = true)\n",
      " |-- f_227: double (nullable = true)\n",
      " |-- f_228: double (nullable = true)\n",
      " |-- f_229: double (nullable = true)\n",
      " |-- f_230: double (nullable = true)\n",
      " |-- f_231: double (nullable = true)\n",
      " |-- f_232: double (nullable = true)\n",
      " |-- f_233: double (nullable = true)\n",
      " |-- f_234: double (nullable = true)\n",
      " |-- f_235: double (nullable = true)\n",
      " |-- f_236: double (nullable = true)\n",
      " |-- f_237: double (nullable = true)\n",
      " |-- f_238: double (nullable = true)\n",
      " |-- f_239: double (nullable = true)\n",
      " |-- f_240: double (nullable = true)\n",
      " |-- f_241: double (nullable = true)\n",
      " |-- f_242: double (nullable = true)\n",
      " |-- f_243: double (nullable = true)\n",
      " |-- f_244: double (nullable = true)\n",
      " |-- f_245: double (nullable = true)\n",
      " |-- f_246: double (nullable = true)\n",
      " |-- f_247: double (nullable = true)\n",
      " |-- f_248: double (nullable = true)\n",
      " |-- f_249: double (nullable = true)\n",
      " |-- f_250: double (nullable = true)\n",
      " |-- f_251: double (nullable = true)\n",
      " |-- f_252: double (nullable = true)\n",
      " |-- f_253: double (nullable = true)\n",
      " |-- f_254: double (nullable = true)\n",
      " |-- f_255: double (nullable = true)\n",
      " |-- f_256: double (nullable = true)\n",
      " |-- f_257: double (nullable = true)\n",
      " |-- f_258: double (nullable = true)\n",
      " |-- f_259: double (nullable = true)\n",
      " |-- f_260: double (nullable = true)\n",
      " |-- f_261: double (nullable = true)\n",
      " |-- f_262: double (nullable = true)\n",
      " |-- f_263: double (nullable = true)\n",
      " |-- f_264: double (nullable = true)\n",
      " |-- f_265: double (nullable = true)\n",
      " |-- f_266: double (nullable = true)\n",
      " |-- f_267: double (nullable = true)\n",
      " |-- f_268: double (nullable = true)\n",
      " |-- f_269: double (nullable = true)\n",
      " |-- f_270: double (nullable = true)\n",
      " |-- f_271: double (nullable = true)\n",
      " |-- f_272: double (nullable = true)\n",
      " |-- f_273: double (nullable = true)\n",
      " |-- f_274: double (nullable = true)\n",
      " |-- f_275: double (nullable = true)\n",
      " |-- f_276: double (nullable = true)\n",
      " |-- f_277: double (nullable = true)\n",
      " |-- f_278: double (nullable = true)\n",
      " |-- f_279: double (nullable = true)\n",
      " |-- f_280: double (nullable = true)\n",
      " |-- f_281: double (nullable = true)\n",
      " |-- f_282: double (nullable = true)\n",
      " |-- f_283: double (nullable = true)\n",
      " |-- f_284: double (nullable = true)\n",
      " |-- f_285: double (nullable = true)\n",
      " |-- f_286: double (nullable = true)\n",
      " |-- f_287: double (nullable = true)\n",
      " |-- f_288: double (nullable = true)\n",
      " |-- f_289: double (nullable = true)\n",
      " |-- f_290: double (nullable = true)\n",
      " |-- f_291: double (nullable = true)\n",
      " |-- f_292: double (nullable = true)\n",
      " |-- f_293: double (nullable = true)\n",
      " |-- f_294: double (nullable = true)\n",
      " |-- f_295: double (nullable = true)\n",
      " |-- f_296: double (nullable = true)\n",
      " |-- f_297: double (nullable = true)\n",
      " |-- f_298: double (nullable = true)\n",
      " |-- f_299: double (nullable = true)\n",
      " |-- f_300: double (nullable = true)\n",
      " |-- y: integer (nullable = true)\n",
      "\n"
     ]
    }
   ],
   "source": [
    "df.printSchema()"
   ]
  },
  {
   "cell_type": "code",
   "execution_count": 7,
   "metadata": {},
   "outputs": [
    {
     "name": "stdout",
     "output_type": "stream",
     "text": [
      "+---+\n",
      "|  y|\n",
      "+---+\n",
      "|  1|\n",
      "|  2|\n",
      "|  3|\n",
      "|  4|\n",
      "|  5|\n",
      "|  6|\n",
      "|  7|\n",
      "|  8|\n",
      "|  9|\n",
      "| 10|\n",
      "+---+\n",
      "\n"
     ]
    }
   ],
   "source": [
    "df.select(\"y\").distinct().sort(\"y\").show()"
   ]
  },
  {
   "cell_type": "markdown",
   "metadata": {},
   "source": [
    "## Apply Vector Assembler"
   ]
  },
  {
   "cell_type": "code",
   "execution_count": 8,
   "metadata": {
    "collapsed": true
   },
   "outputs": [],
   "source": [
    "features = df.columns[0:len(df.columns)-1]"
   ]
  },
  {
   "cell_type": "code",
   "execution_count": 9,
   "metadata": {
    "collapsed": true
   },
   "outputs": [],
   "source": [
    "assembler = VectorAssembler()\\\n",
    "    .setInputCols(features)\\\n",
    "    .setOutputCol(\"features\")"
   ]
  },
  {
   "cell_type": "code",
   "execution_count": 10,
   "metadata": {},
   "outputs": [
    {
     "name": "stdout",
     "output_type": "stream",
     "text": [
      "+--------------------+-----+\n",
      "|            features|label|\n",
      "+--------------------+-----+\n",
      "|[0.0,0.11699443,0...|    1|\n",
      "|[0.0,0.11699443,0...|    1|\n",
      "|[0.0,0.11699443,0...|    1|\n",
      "|[0.0,0.11699443,0...|    1|\n",
      "|[0.0,0.11699443,0...|    1|\n",
      "|[0.0,0.11699443,0...|    1|\n",
      "|[0.0,0.11699443,0...|    1|\n",
      "|[0.0,0.11699443,0...|    1|\n",
      "|[0.0,0.11699443,0...|    1|\n",
      "|[0.0,0.11699443,0...|    1|\n",
      "+--------------------+-----+\n",
      "only showing top 10 rows\n",
      "\n"
     ]
    }
   ],
   "source": [
    "df_v = assembler.transform(df)\\\n",
    "    .select(col(\"features\"), col(\"y\").alias(\"label\"))\n",
    "\n",
    "df_v.show(10)"
   ]
  },
  {
   "cell_type": "markdown",
   "metadata": {},
   "source": [
    "## Scale the features"
   ]
  },
  {
   "cell_type": "code",
   "execution_count": 11,
   "metadata": {
    "collapsed": true
   },
   "outputs": [],
   "source": [
    "scaler = StandardScaler()\\\n",
    "    .setInputCol(\"features\")\\\n",
    "    .setOutputCol(\"scaledFeatures\")"
   ]
  },
  {
   "cell_type": "code",
   "execution_count": 12,
   "metadata": {
    "collapsed": true
   },
   "outputs": [],
   "source": [
    "df_s = scaler.fit(df_v).transform(df_v)"
   ]
  },
  {
   "cell_type": "markdown",
   "metadata": {},
   "source": [
    "## Dimensionality Reduction with PCA"
   ]
  },
  {
   "cell_type": "code",
   "execution_count": 13,
   "metadata": {
    "collapsed": true
   },
   "outputs": [],
   "source": [
    "pca = PCA()\\\n",
    "    .setInputCol(\"scaledFeatures\")\\\n",
    "    .setOutputCol(\"pcaFeatures\")\\\n",
    "    .setK(2)"
   ]
  },
  {
   "cell_type": "code",
   "execution_count": 14,
   "metadata": {
    "collapsed": true
   },
   "outputs": [],
   "source": [
    "df_p = pca.fit(df_s).transform(df_s)"
   ]
  },
  {
   "cell_type": "code",
   "execution_count": 15,
   "metadata": {},
   "outputs": [
    {
     "name": "stdout",
     "output_type": "stream",
     "text": [
      "+--------------------+-----+--------------------+--------------------+\n",
      "|            features|label|      scaledFeatures|         pcaFeatures|\n",
      "+--------------------+-----+--------------------+--------------------+\n",
      "|[0.0,0.11699443,0...|    1|[0.0,0.1168878569...|[-9.0844791376663...|\n",
      "|[0.0,0.11699443,0...|    1|[0.0,0.1168878569...|[-9.2363439345140...|\n",
      "|[0.0,0.11699443,0...|    1|[0.0,0.1168878569...|[-2.2189062710583...|\n",
      "|[0.0,0.11699443,0...|    1|[0.0,0.1168878569...|[-11.111984211034...|\n",
      "|[0.0,0.11699443,0...|    1|[0.0,0.1168878569...|[-8.5722489709499...|\n",
      "|[0.0,0.11699443,0...|    1|[0.0,0.1168878569...|[-9.2914624899164...|\n",
      "|[0.0,0.11699443,0...|    1|[0.0,0.1168878569...|[-11.146332758445...|\n",
      "|[0.0,0.11699443,0...|    1|[0.0,0.1168878569...|[-11.982793957225...|\n",
      "|[0.0,0.11699443,0...|    1|[0.0,0.1168878569...|[-2.3912925397431...|\n",
      "|[0.0,0.11699443,0...|    1|[0.0,0.1168878569...|[-12.009468851563...|\n",
      "+--------------------+-----+--------------------+--------------------+\n",
      "only showing top 10 rows\n",
      "\n"
     ]
    }
   ],
   "source": [
    "df_p.show(10)"
   ]
  },
  {
   "cell_type": "markdown",
   "metadata": {},
   "source": [
    "## Plot the first two principal components"
   ]
  },
  {
   "cell_type": "code",
   "execution_count": 16,
   "metadata": {
    "collapsed": true
   },
   "outputs": [],
   "source": [
    "x = df_p.select(\"pcaFeatures\").collect()\n",
    "x1 = [x[row][0][0] for row in range(0,len(x))]\n",
    "x2 = [x[row][0][1] for row in range(0,len(x))]"
   ]
  },
  {
   "cell_type": "code",
   "execution_count": 17,
   "metadata": {
    "collapsed": true
   },
   "outputs": [],
   "source": [
    "y = df.select(\"y\").collect()\n",
    "y = [y[row][0] for row in range(0,len(y))]"
   ]
  },
  {
   "cell_type": "code",
   "execution_count": 18,
   "metadata": {},
   "outputs": [
    {
     "data": {
      "image/png": "[encoded data removed]",
      "text/plain": [
       "<matplotlib.figure.Figure at 0x11810c650>"
      ]
     },
     "metadata": {},
     "output_type": "display_data"
    }
   ],
   "source": [
    "plt.scatter(x1, x2, cmap = \"jet\", c = y, marker = \"o\", edgecolor = \"none\", vmin = 0, vmax = 10)\n",
    "cbar = plt.colorbar()\n",
    "cbar.set_label(\"N\")\n",
    "cbar.set_ticks([1,2,3,4,5,6,7,8,9,10])\n",
    "plt.xlabel('First component')\n",
    "plt.ylabel('Second component')\n",
    "plt.title('PCA')\n",
    "plt.show()"
   ]
  }
 ],
 "metadata": {
  "kernelspec": {
   "display_name": "Python 2",
   "language": "python",
   "name": "python2"
  },
  "language_info": {
   "codemirror_mode": {
    "name": "ipython",
    "version": 2
   },
   "file_extension": ".py",
   "mimetype": "text/x-python",
   "name": "python",
   "nbconvert_exporter": "python",
   "pygments_lexer": "ipython2",
   "version": "2.7.10"
  }
 },
 "nbformat": 4,
 "nbformat_minor": 2
}
